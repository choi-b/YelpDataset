{
  "nbformat": 4,
  "nbformat_minor": 0,
  "metadata": {
    "colab": {
      "name": "LSTM with Other Datasets.ipynb",
      "version": "0.3.2",
      "provenance": [],
      "collapsed_sections": []
    },
    "kernelspec": {
      "name": "python3",
      "display_name": "Python 3"
    },
    "accelerator": "GPU"
  },
  "cells": [
    {
      "metadata": {
        "id": "dGzWgxUdpKQ0",
        "colab_type": "code",
        "outputId": "e5369b52-690c-42ba-9803-0956b5488e8f",
        "colab": {
          "base_uri": "https://localhost:8080/",
          "height": 122
        }
      },
      "cell_type": "code",
      "source": [
        "# Mount Google Drive (required if running on Google Colab)\n",
        "from google.colab import drive\n",
        "drive.mount('/content/drive')"
      ],
      "execution_count": 1,
      "outputs": [
        {
          "output_type": "stream",
          "text": [
            "Go to this URL in a browser: https://accounts.google.com/o/oauth2/auth?client_id=947318989803-6bn6qk8qdgf4n4g3pfee6491hc0brc4i.apps.googleusercontent.com&redirect_uri=urn%3Aietf%3Awg%3Aoauth%3A2.0%3Aoob&scope=email%20https%3A%2F%2Fwww.googleapis.com%2Fauth%2Fdocs.test%20https%3A%2F%2Fwww.googleapis.com%2Fauth%2Fdrive%20https%3A%2F%2Fwww.googleapis.com%2Fauth%2Fdrive.photos.readonly%20https%3A%2F%2Fwww.googleapis.com%2Fauth%2Fpeopleapi.readonly&response_type=code\n",
            "\n",
            "Enter your authorization code:\n",
            "··········\n",
            "Mounted at /content/drive\n"
          ],
          "name": "stdout"
        }
      ]
    },
    {
      "metadata": {
        "id": "4mEpLX3Po-G-",
        "colab_type": "code",
        "outputId": "19b995f9-5981-4607-d09e-354fba951e6d",
        "colab": {
          "base_uri": "https://localhost:8080/",
          "height": 1227
        }
      },
      "cell_type": "code",
      "source": [
        "# Install required modules\n",
        "# !pip install '/content/drive/Team Drives/Deep Learning Team Drive/yelp_dataset_challenge-master/yelp_util'\n",
        "!pip install Cython\n",
        "# !pip install word2vec\n",
        "!pip install gensim\n",
        "!pip install unidecode\n",
        "!pip install textblob\n",
        "!pip install wordcloud\n",
        "\n",
        "\n",
        "# Import required modules\n",
        "import nltk\n",
        "nltk.download('punkt')\n",
        "nltk.download('stopwords')\n",
        "\n",
        "# import yelp_util\n",
        "# from yelp_util import downloader as dl\n",
        "import os\n",
        "from scipy import misc\n",
        "import numpy as np\n",
        "import tensorflow as tf\n",
        "from gensim.models import Word2Vec\n",
        "import pandas as pd\n",
        "import random\n",
        "from wordcloud import WordCloud\n",
        "import matplotlib.pyplot as plt"
      ],
      "execution_count": 2,
      "outputs": [
        {
          "output_type": "stream",
          "text": [
            "Collecting Cython\n",
            "\u001b[?25l  Downloading https://files.pythonhosted.org/packages/a2/e0/0592be5b851c8013aa253592606ca265862d27444d908e029fd75d563c9c/Cython-0.29.1-cp36-cp36m-manylinux1_x86_64.whl (2.1MB)\n",
            "\u001b[K    100% |████████████████████████████████| 2.1MB 12.7MB/s \n",
            "\u001b[?25hInstalling collected packages: Cython\n",
            "Successfully installed Cython-0.29.1\n",
            "Collecting gensim\n",
            "\u001b[?25l  Downloading https://files.pythonhosted.org/packages/27/a4/d10c0acc8528d838cda5eede0ee9c784caa598dbf40bd0911ff8d067a7eb/gensim-3.6.0-cp36-cp36m-manylinux1_x86_64.whl (23.6MB)\n",
            "\u001b[K    100% |████████████████████████████████| 23.6MB 1.9MB/s \n",
            "\u001b[?25hRequirement already satisfied: scipy>=0.18.1 in /usr/local/lib/python3.6/dist-packages (from gensim) (1.1.0)\n",
            "Collecting smart-open>=1.2.1 (from gensim)\n",
            "  Downloading https://files.pythonhosted.org/packages/4b/1f/6f27e3682124de63ac97a0a5876da6186de6c19410feab66c1543afab055/smart_open-1.7.1.tar.gz\n",
            "Requirement already satisfied: six>=1.5.0 in /usr/local/lib/python3.6/dist-packages (from gensim) (1.11.0)\n",
            "Requirement already satisfied: numpy>=1.11.3 in /usr/local/lib/python3.6/dist-packages (from gensim) (1.14.6)\n",
            "Collecting boto>=2.32 (from smart-open>=1.2.1->gensim)\n",
            "\u001b[?25l  Downloading https://files.pythonhosted.org/packages/23/10/c0b78c27298029e4454a472a1919bde20cb182dab1662cec7f2ca1dcc523/boto-2.49.0-py2.py3-none-any.whl (1.4MB)\n",
            "\u001b[K    100% |████████████████████████████████| 1.4MB 16.1MB/s \n",
            "\u001b[?25hCollecting bz2file (from smart-open>=1.2.1->gensim)\n",
            "  Downloading https://files.pythonhosted.org/packages/61/39/122222b5e85cd41c391b68a99ee296584b2a2d1d233e7ee32b4532384f2d/bz2file-0.98.tar.gz\n",
            "Requirement already satisfied: requests in /usr/local/lib/python3.6/dist-packages (from smart-open>=1.2.1->gensim) (2.18.4)\n",
            "Collecting boto3 (from smart-open>=1.2.1->gensim)\n",
            "\u001b[?25l  Downloading https://files.pythonhosted.org/packages/9c/b9/7df67f1775d240ac8d111211f967fa75ecc9968ae79ffa0594e36345445f/boto3-1.9.62-py2.py3-none-any.whl (128kB)\n",
            "\u001b[K    100% |████████████████████████████████| 133kB 26.8MB/s \n",
            "\u001b[?25hRequirement already satisfied: urllib3<1.23,>=1.21.1 in /usr/local/lib/python3.6/dist-packages (from requests->smart-open>=1.2.1->gensim) (1.22)\n",
            "Requirement already satisfied: certifi>=2017.4.17 in /usr/local/lib/python3.6/dist-packages (from requests->smart-open>=1.2.1->gensim) (2018.11.29)\n",
            "Requirement already satisfied: idna<2.7,>=2.5 in /usr/local/lib/python3.6/dist-packages (from requests->smart-open>=1.2.1->gensim) (2.6)\n",
            "Requirement already satisfied: chardet<3.1.0,>=3.0.2 in /usr/local/lib/python3.6/dist-packages (from requests->smart-open>=1.2.1->gensim) (3.0.4)\n",
            "Collecting s3transfer<0.2.0,>=0.1.10 (from boto3->smart-open>=1.2.1->gensim)\n",
            "\u001b[?25l  Downloading https://files.pythonhosted.org/packages/d7/14/2a0004d487464d120c9fb85313a75cd3d71a7506955be458eebfe19a6b1d/s3transfer-0.1.13-py2.py3-none-any.whl (59kB)\n",
            "\u001b[K    100% |████████████████████████████████| 61kB 23.0MB/s \n",
            "\u001b[?25hCollecting botocore<1.13.0,>=1.12.62 (from boto3->smart-open>=1.2.1->gensim)\n",
            "\u001b[?25l  Downloading https://files.pythonhosted.org/packages/e2/77/35e82076e3beb506280f94213a258819378115f174e516ce69b3a2336e1c/botocore-1.12.62-py2.py3-none-any.whl (5.1MB)\n",
            "\u001b[K    100% |████████████████████████████████| 5.1MB 7.2MB/s \n",
            "\u001b[?25hCollecting jmespath<1.0.0,>=0.7.1 (from boto3->smart-open>=1.2.1->gensim)\n",
            "  Downloading https://files.pythonhosted.org/packages/b7/31/05c8d001f7f87f0f07289a5fc0fc3832e9a57f2dbd4d3b0fee70e0d51365/jmespath-0.9.3-py2.py3-none-any.whl\n",
            "Requirement already satisfied: python-dateutil<3.0.0,>=2.1; python_version >= \"2.7\" in /usr/local/lib/python3.6/dist-packages (from botocore<1.13.0,>=1.12.62->boto3->smart-open>=1.2.1->gensim) (2.5.3)\n",
            "Collecting docutils>=0.10 (from botocore<1.13.0,>=1.12.62->boto3->smart-open>=1.2.1->gensim)\n",
            "\u001b[?25l  Downloading https://files.pythonhosted.org/packages/36/fa/08e9e6e0e3cbd1d362c3bbee8d01d0aedb2155c4ac112b19ef3cae8eed8d/docutils-0.14-py3-none-any.whl (543kB)\n",
            "\u001b[K    100% |████████████████████████████████| 552kB 22.1MB/s \n",
            "\u001b[?25hBuilding wheels for collected packages: smart-open, bz2file\n",
            "  Running setup.py bdist_wheel for smart-open ... \u001b[?25l-\b \b\\\b \bdone\n",
            "\u001b[?25h  Stored in directory: /root/.cache/pip/wheels/23/00/44/e5b939f7a80c04e32297dbd6d96fa3065af89ecf57e2b5f89f\n",
            "  Running setup.py bdist_wheel for bz2file ... \u001b[?25l-\b \bdone\n",
            "\u001b[?25h  Stored in directory: /root/.cache/pip/wheels/81/75/d6/e1317bf09bf1af5a30befc2a007869fa6e1f516b8f7c591cb9\n",
            "Successfully built smart-open bz2file\n",
            "Installing collected packages: boto, bz2file, jmespath, docutils, botocore, s3transfer, boto3, smart-open, gensim\n",
            "Successfully installed boto-2.49.0 boto3-1.9.62 botocore-1.12.62 bz2file-0.98 docutils-0.14 gensim-3.6.0 jmespath-0.9.3 s3transfer-0.1.13 smart-open-1.7.1\n",
            "Collecting unidecode\n",
            "\u001b[?25l  Downloading https://files.pythonhosted.org/packages/31/39/53096f9217b057cb049fe872b7fc7ce799a1a89b76cf917d9639e7a558b5/Unidecode-1.0.23-py2.py3-none-any.whl (237kB)\n",
            "\u001b[K    100% |████████████████████████████████| 245kB 7.8MB/s \n",
            "\u001b[?25hInstalling collected packages: unidecode\n",
            "Successfully installed unidecode-1.0.23\n",
            "Collecting textblob\n",
            "\u001b[?25l  Downloading https://files.pythonhosted.org/packages/7c/7d/ad09a26b63d4ad3f9395840c72c95f2fc9fa2b192094ef14e9e720be56f9/textblob-0.15.2-py2.py3-none-any.whl (636kB)\n",
            "\u001b[K    100% |████████████████████████████████| 645kB 20.9MB/s \n",
            "\u001b[?25hRequirement already satisfied: nltk>=3.1 in /usr/local/lib/python3.6/dist-packages (from textblob) (3.2.5)\n",
            "Requirement already satisfied: six in /usr/local/lib/python3.6/dist-packages (from nltk>=3.1->textblob) (1.11.0)\n",
            "Installing collected packages: textblob\n",
            "Successfully installed textblob-0.15.2\n",
            "Collecting wordcloud\n",
            "\u001b[?25l  Downloading https://files.pythonhosted.org/packages/ae/af/849edf14d573eba9c8082db898ff0d090428d9485371cc4fe21a66717ad2/wordcloud-1.5.0-cp36-cp36m-manylinux1_x86_64.whl (361kB)\n",
            "\u001b[K    100% |████████████████████████████████| 368kB 26.7MB/s \n",
            "\u001b[?25hRequirement already satisfied: numpy>=1.6.1 in /usr/local/lib/python3.6/dist-packages (from wordcloud) (1.14.6)\n",
            "Requirement already satisfied: pillow in /usr/local/lib/python3.6/dist-packages (from wordcloud) (4.0.0)\n",
            "Requirement already satisfied: olefile in /usr/local/lib/python3.6/dist-packages (from pillow->wordcloud) (0.46)\n",
            "Installing collected packages: wordcloud\n",
            "Successfully installed wordcloud-1.5.0\n",
            "[nltk_data] Downloading package punkt to /root/nltk_data...\n",
            "[nltk_data]   Unzipping tokenizers/punkt.zip.\n",
            "[nltk_data] Downloading package stopwords to /root/nltk_data...\n",
            "[nltk_data]   Unzipping corpora/stopwords.zip.\n"
          ],
          "name": "stdout"
        }
      ]
    },
    {
      "metadata": {
        "id": "y49vhmPDr_Il",
        "colab_type": "code",
        "colab": {
          "base_uri": "https://localhost:8080/",
          "height": 632
        },
        "outputId": "01f90e42-94b0-4849-abd8-cabb977078d5"
      },
      "cell_type": "code",
      "source": [
        "# Download and unpickle data\n",
        "\n",
        "download_path = '/content/drive/Team Drives/Deep Learning Team Drive/data'\n",
        "\n",
        "#Chinese Restaurant Reviews\n",
        "#review = pd.read_pickle(os.path.join(download_path, 'chinese_reviews.pickle'))\n",
        "#review = pd.read_pickle(os.path.join(download_path, 'italian_reviews.pickle'))\n",
        "\n",
        "\n",
        "reviewItaly = pd.read_pickle(os.path.join(download_path, 'italian_reviews.pickle'))\n",
        "# Suffle review data before any other preprocessing\n",
        "shuffidx = np.random.RandomState(seed=2018).permutation(reviewItaly.shape[0])\n",
        "\n",
        "# Reset index so it stays in the new order\n",
        "reviewItaly = reviewItaly.iloc[shuffidx].reset_index(drop=True)\n",
        "reviewItaly.head()"
      ],
      "execution_count": 4,
      "outputs": [
        {
          "output_type": "execute_result",
          "data": {
            "text/html": [
              "<div>\n",
              "<style scoped>\n",
              "    .dataframe tbody tr th:only-of-type {\n",
              "        vertical-align: middle;\n",
              "    }\n",
              "\n",
              "    .dataframe tbody tr th {\n",
              "        vertical-align: top;\n",
              "    }\n",
              "\n",
              "    .dataframe thead th {\n",
              "        text-align: right;\n",
              "    }\n",
              "</style>\n",
              "<table border=\"1\" class=\"dataframe\">\n",
              "  <thead>\n",
              "    <tr style=\"text-align: right;\">\n",
              "      <th></th>\n",
              "      <th>business_id</th>\n",
              "      <th>date</th>\n",
              "      <th>review_id</th>\n",
              "      <th>stars</th>\n",
              "      <th>text</th>\n",
              "      <th>type</th>\n",
              "      <th>user_id</th>\n",
              "      <th>votes_cool</th>\n",
              "      <th>votes_funny</th>\n",
              "      <th>votes_useful</th>\n",
              "    </tr>\n",
              "  </thead>\n",
              "  <tbody>\n",
              "    <tr>\n",
              "      <th>0</th>\n",
              "      <td>FwYIyHrdkkB28wbbEDJ9Hg</td>\n",
              "      <td>2014-08-13</td>\n",
              "      <td>5baYd00l1HN7OiDdnYsVmg</td>\n",
              "      <td>4</td>\n",
              "      <td>Ohhhh, I've put off writing this review foreve...</td>\n",
              "      <td>review</td>\n",
              "      <td>fzy5CCuLns6n9IUTsdTI8w</td>\n",
              "      <td>2</td>\n",
              "      <td>2</td>\n",
              "      <td>3</td>\n",
              "    </tr>\n",
              "    <tr>\n",
              "      <th>1</th>\n",
              "      <td>DnkoH96JRzX9udAPLHBbIQ</td>\n",
              "      <td>2014-01-07</td>\n",
              "      <td>TnFknNnvzB55SRyMjtn1zw</td>\n",
              "      <td>5</td>\n",
              "      <td>Wonderful great tasting food no fancy flair JU...</td>\n",
              "      <td>review</td>\n",
              "      <td>K7MW3SInIPA6uVV3E8rxMA</td>\n",
              "      <td>1</td>\n",
              "      <td>0</td>\n",
              "      <td>1</td>\n",
              "    </tr>\n",
              "    <tr>\n",
              "      <th>2</th>\n",
              "      <td>PayaNmMeZFOFeS_jo7eB8g</td>\n",
              "      <td>2014-07-01</td>\n",
              "      <td>ApbXgWsyJ0Ue933EJDl_8Q</td>\n",
              "      <td>5</td>\n",
              "      <td>This place is the best! So far, it is hands do...</td>\n",
              "      <td>review</td>\n",
              "      <td>yUtqMCrl86TkLXKjGsXQ0g</td>\n",
              "      <td>0</td>\n",
              "      <td>0</td>\n",
              "      <td>0</td>\n",
              "    </tr>\n",
              "    <tr>\n",
              "      <th>3</th>\n",
              "      <td>79EG9Pv0bxNTmBjTVCd4CQ</td>\n",
              "      <td>2012-01-05</td>\n",
              "      <td>C_uOMbJ88EQHA_1LzGa3lw</td>\n",
              "      <td>3</td>\n",
              "      <td>The experience was a bit rocky.  It was nice t...</td>\n",
              "      <td>review</td>\n",
              "      <td>DdPGlglwpwbLaRFTwAL2tQ</td>\n",
              "      <td>0</td>\n",
              "      <td>0</td>\n",
              "      <td>0</td>\n",
              "    </tr>\n",
              "    <tr>\n",
              "      <th>4</th>\n",
              "      <td>m9K8o-paI6w500w9P8G9pg</td>\n",
              "      <td>2010-05-02</td>\n",
              "      <td>OT2toKtJzAABpmaC4s0edw</td>\n",
              "      <td>4</td>\n",
              "      <td>Hey mambo! mambo italiano! Go Go Joe! Now this...</td>\n",
              "      <td>review</td>\n",
              "      <td>XWvowG_OOBd2g3EjNGUtOQ</td>\n",
              "      <td>3</td>\n",
              "      <td>2</td>\n",
              "      <td>5</td>\n",
              "    </tr>\n",
              "  </tbody>\n",
              "</table>\n",
              "</div>"
            ],
            "text/plain": [
              "              business_id        date               review_id  stars  \\\n",
              "0  FwYIyHrdkkB28wbbEDJ9Hg  2014-08-13  5baYd00l1HN7OiDdnYsVmg      4   \n",
              "1  DnkoH96JRzX9udAPLHBbIQ  2014-01-07  TnFknNnvzB55SRyMjtn1zw      5   \n",
              "2  PayaNmMeZFOFeS_jo7eB8g  2014-07-01  ApbXgWsyJ0Ue933EJDl_8Q      5   \n",
              "3  79EG9Pv0bxNTmBjTVCd4CQ  2012-01-05  C_uOMbJ88EQHA_1LzGa3lw      3   \n",
              "4  m9K8o-paI6w500w9P8G9pg  2010-05-02  OT2toKtJzAABpmaC4s0edw      4   \n",
              "\n",
              "                                                text    type  \\\n",
              "0  Ohhhh, I've put off writing this review foreve...  review   \n",
              "1  Wonderful great tasting food no fancy flair JU...  review   \n",
              "2  This place is the best! So far, it is hands do...  review   \n",
              "3  The experience was a bit rocky.  It was nice t...  review   \n",
              "4  Hey mambo! mambo italiano! Go Go Joe! Now this...  review   \n",
              "\n",
              "                  user_id  votes_cool  votes_funny  votes_useful  \n",
              "0  fzy5CCuLns6n9IUTsdTI8w           2            2             3  \n",
              "1  K7MW3SInIPA6uVV3E8rxMA           1            0             1  \n",
              "2  yUtqMCrl86TkLXKjGsXQ0g           0            0             0  \n",
              "3  DdPGlglwpwbLaRFTwAL2tQ           0            0             0  \n",
              "4  XWvowG_OOBd2g3EjNGUtOQ           3            2             5  "
            ]
          },
          "metadata": {
            "tags": []
          },
          "execution_count": 4
        }
      ]
    },
    {
      "metadata": {
        "id": "z6Z5WHV4GLca",
        "colab_type": "code",
        "colab": {}
      },
      "cell_type": "code",
      "source": [
        "#PREOPROCESS A LITTLE BIT\n",
        "\n",
        "#review2 = review.loc[:, ['stars','text']]\n",
        "#review2.head()\n",
        "#review3 = review.loc[:, ['stars','text']]\n",
        "reviewItaly = reviewItaly.loc[:, ['stars','text']]"
      ],
      "execution_count": 0,
      "outputs": []
    },
    {
      "metadata": {
        "id": "gP5Obq7ebQbB",
        "colab_type": "code",
        "outputId": "c5ddd964-bc76-4eb7-f240-275b0cd28bcd",
        "colab": {
          "base_uri": "https://localhost:8080/",
          "height": 204
        }
      },
      "cell_type": "code",
      "source": [
        "#Option 1: review2 makes stars > 3 = positive, and the rest negative\n",
        "\n",
        "#review2['sentiment']=['pos' if (x>3) else 'neg' for x in review2['stars']]\n",
        "#review2.head()\n",
        "\n",
        "#Option 2: review3 makes stars > 3 = positive, and stars = 2 or 1 negative. 3 are neutral/not considered for analysis.\n",
        "\n",
        "#get rid of rows with 3 stars\n",
        "#review3 = review3[review3.stars != 3]\n",
        "#review3.stars.value_counts() # check that there are no \"3\" stars\n",
        "#review3['sentiment']=['pos' if (x>3) else 'neg' for x in review3['stars']] #add the sentiment column\n",
        "#review3.head()\n",
        "reviewItaly = reviewItaly[reviewItaly.stars != 3]\n",
        "reviewItaly.stars.value_counts() # check that there are no \"3\" stars\n",
        "reviewItaly['sentiment']=['pos' if (x>3) else 'neg' for x in reviewItaly['stars']] #add the sentiment column\n",
        "reviewItaly.head()\n"
      ],
      "execution_count": 7,
      "outputs": [
        {
          "output_type": "execute_result",
          "data": {
            "text/html": [
              "<div>\n",
              "<style scoped>\n",
              "    .dataframe tbody tr th:only-of-type {\n",
              "        vertical-align: middle;\n",
              "    }\n",
              "\n",
              "    .dataframe tbody tr th {\n",
              "        vertical-align: top;\n",
              "    }\n",
              "\n",
              "    .dataframe thead th {\n",
              "        text-align: right;\n",
              "    }\n",
              "</style>\n",
              "<table border=\"1\" class=\"dataframe\">\n",
              "  <thead>\n",
              "    <tr style=\"text-align: right;\">\n",
              "      <th></th>\n",
              "      <th>stars</th>\n",
              "      <th>text</th>\n",
              "      <th>sentiment</th>\n",
              "    </tr>\n",
              "  </thead>\n",
              "  <tbody>\n",
              "    <tr>\n",
              "      <th>0</th>\n",
              "      <td>4</td>\n",
              "      <td>Ohhhh, I've put off writing this review foreve...</td>\n",
              "      <td>pos</td>\n",
              "    </tr>\n",
              "    <tr>\n",
              "      <th>1</th>\n",
              "      <td>5</td>\n",
              "      <td>Wonderful great tasting food no fancy flair JU...</td>\n",
              "      <td>pos</td>\n",
              "    </tr>\n",
              "    <tr>\n",
              "      <th>2</th>\n",
              "      <td>5</td>\n",
              "      <td>This place is the best! So far, it is hands do...</td>\n",
              "      <td>pos</td>\n",
              "    </tr>\n",
              "    <tr>\n",
              "      <th>4</th>\n",
              "      <td>4</td>\n",
              "      <td>Hey mambo! mambo italiano! Go Go Joe! Now this...</td>\n",
              "      <td>pos</td>\n",
              "    </tr>\n",
              "    <tr>\n",
              "      <th>5</th>\n",
              "      <td>4</td>\n",
              "      <td>I've been eating so much pizza lately, I think...</td>\n",
              "      <td>pos</td>\n",
              "    </tr>\n",
              "  </tbody>\n",
              "</table>\n",
              "</div>"
            ],
            "text/plain": [
              "   stars                                               text sentiment\n",
              "0      4  Ohhhh, I've put off writing this review foreve...       pos\n",
              "1      5  Wonderful great tasting food no fancy flair JU...       pos\n",
              "2      5  This place is the best! So far, it is hands do...       pos\n",
              "4      4  Hey mambo! mambo italiano! Go Go Joe! Now this...       pos\n",
              "5      4  I've been eating so much pizza lately, I think...       pos"
            ]
          },
          "metadata": {
            "tags": []
          },
          "execution_count": 7
        }
      ]
    },
    {
      "metadata": {
        "id": "AilR_b_j3cpV",
        "colab_type": "code",
        "outputId": "0ee212cd-7cef-4ced-9750-dd2f944b2460",
        "colab": {
          "base_uri": "https://localhost:8080/",
          "height": 204
        }
      },
      "cell_type": "code",
      "source": [
        "\n",
        "#lowercase/remove punctuations\n",
        "\n",
        "import re\n",
        "#review2['text']= [x.lower() for x in review2['text']]\n",
        "#review2['text'] = review2['text'].apply((lambda x: re.sub('[^a-zA-z0-9\\s]','',x)))\n",
        "#review2.head()\n",
        "\n",
        "reviewItaly['text']= [x.lower() for x in reviewItaly['text']]\n",
        "reviewItaly['text'] = reviewItaly['text'].apply((lambda x: re.sub('[^a-zA-z0-9\\s]','',x)))\n",
        "reviewItaly.head()"
      ],
      "execution_count": 8,
      "outputs": [
        {
          "output_type": "execute_result",
          "data": {
            "text/html": [
              "<div>\n",
              "<style scoped>\n",
              "    .dataframe tbody tr th:only-of-type {\n",
              "        vertical-align: middle;\n",
              "    }\n",
              "\n",
              "    .dataframe tbody tr th {\n",
              "        vertical-align: top;\n",
              "    }\n",
              "\n",
              "    .dataframe thead th {\n",
              "        text-align: right;\n",
              "    }\n",
              "</style>\n",
              "<table border=\"1\" class=\"dataframe\">\n",
              "  <thead>\n",
              "    <tr style=\"text-align: right;\">\n",
              "      <th></th>\n",
              "      <th>stars</th>\n",
              "      <th>text</th>\n",
              "      <th>sentiment</th>\n",
              "    </tr>\n",
              "  </thead>\n",
              "  <tbody>\n",
              "    <tr>\n",
              "      <th>0</th>\n",
              "      <td>4</td>\n",
              "      <td>ohhhh ive put off writing this review forever ...</td>\n",
              "      <td>pos</td>\n",
              "    </tr>\n",
              "    <tr>\n",
              "      <th>1</th>\n",
              "      <td>5</td>\n",
              "      <td>wonderful great tasting food no fancy flair ju...</td>\n",
              "      <td>pos</td>\n",
              "    </tr>\n",
              "    <tr>\n",
              "      <th>2</th>\n",
              "      <td>5</td>\n",
              "      <td>this place is the best so far it is hands down...</td>\n",
              "      <td>pos</td>\n",
              "    </tr>\n",
              "    <tr>\n",
              "      <th>4</th>\n",
              "      <td>4</td>\n",
              "      <td>hey mambo mambo italiano go go joe now this is...</td>\n",
              "      <td>pos</td>\n",
              "    </tr>\n",
              "    <tr>\n",
              "      <th>5</th>\n",
              "      <td>4</td>\n",
              "      <td>ive been eating so much pizza lately i think i...</td>\n",
              "      <td>pos</td>\n",
              "    </tr>\n",
              "  </tbody>\n",
              "</table>\n",
              "</div>"
            ],
            "text/plain": [
              "   stars                                               text sentiment\n",
              "0      4  ohhhh ive put off writing this review forever ...       pos\n",
              "1      5  wonderful great tasting food no fancy flair ju...       pos\n",
              "2      5  this place is the best so far it is hands down...       pos\n",
              "4      4  hey mambo mambo italiano go go joe now this is...       pos\n",
              "5      4  ive been eating so much pizza lately i think i...       pos"
            ]
          },
          "metadata": {
            "tags": []
          },
          "execution_count": 8
        }
      ]
    },
    {
      "metadata": {
        "id": "kJuhmMJl6GgN",
        "colab_type": "code",
        "outputId": "41b0f1e2-c6d7-478c-e898-a66397eb38f4",
        "colab": {
          "base_uri": "https://localhost:8080/",
          "height": 68
        }
      },
      "cell_type": "code",
      "source": [
        "reviewItaly.sentiment.value_counts()"
      ],
      "execution_count": 9,
      "outputs": [
        {
          "output_type": "execute_result",
          "data": {
            "text/plain": [
              "pos    56582\n",
              "neg    15293\n",
              "Name: sentiment, dtype: int64"
            ]
          },
          "metadata": {
            "tags": []
          },
          "execution_count": 9
        }
      ]
    },
    {
      "metadata": {
        "id": "PolgW66td4Bv",
        "colab_type": "code",
        "outputId": "1329076e-37c3-44e2-bad5-5df29d4577b3",
        "colab": {
          "base_uri": "https://localhost:8080/",
          "height": 34
        }
      },
      "cell_type": "code",
      "source": [
        "#################\n",
        "#### L S T M ####\n",
        "##### starts ####\n",
        "##### here ###### \n",
        "#################\n",
        "\n",
        "from sklearn.feature_extraction.text import CountVectorizer\n",
        "from keras.preprocessing.text import Tokenizer\n",
        "from keras.preprocessing.sequence import pad_sequences\n",
        "from keras.models import Sequential\n",
        "from keras.layers import Dense, Embedding, LSTM, SpatialDropout1D, CuDNNLSTM, Bidirectional\n",
        "from keras.metrics import categorical_accuracy\n",
        "from sklearn.model_selection import train_test_split\n",
        "from keras.utils.np_utils import to_categorical\n",
        "\n",
        "tokenizer = Tokenizer(num_words=2000, filters='!\"#$%&()*+,-./:;<=>?@[\\\\]^_`{|}~\\t\\n',                                  \n",
        "                      lower=True,split=' ')\n",
        "#tokenizer.fit_on_texts(review2['text'].values)\n",
        "tokenizer.fit_on_texts(reviewItaly['text'].values)"
      ],
      "execution_count": 10,
      "outputs": [
        {
          "output_type": "stream",
          "text": [
            "Using TensorFlow backend.\n"
          ],
          "name": "stderr"
        }
      ]
    },
    {
      "metadata": {
        "id": "mudCeCA1fyXJ",
        "colab_type": "code",
        "outputId": "51e1d46d-ce27-4467-8a53-be854f883d80",
        "colab": {
          "base_uri": "https://localhost:8080/",
          "height": 34
        }
      },
      "cell_type": "code",
      "source": [
        "#Use Tokenizer to vectorize the text and convert it into sequence of integers \n",
        "tokenizer"
      ],
      "execution_count": 11,
      "outputs": [
        {
          "output_type": "execute_result",
          "data": {
            "text/plain": [
              "<keras_preprocessing.text.Tokenizer at 0x7f7882176828>"
            ]
          },
          "metadata": {
            "tags": []
          },
          "execution_count": 11
        }
      ]
    },
    {
      "metadata": {
        "id": "wuazH2UFfz4A",
        "colab_type": "code",
        "colab": {}
      },
      "cell_type": "code",
      "source": [
        "#X = tokenizer.texts_to_sequences(review2['text'].values)\n",
        "#X = tokenizer.texts_to_sequences(review3['text'].values)\n",
        "X = tokenizer.texts_to_sequences(reviewItaly['text'].values)\n",
        "X = pad_sequences(X)"
      ],
      "execution_count": 0,
      "outputs": []
    },
    {
      "metadata": {
        "id": "sK3YWiHNf_zK",
        "colab_type": "code",
        "outputId": "9cb947a3-85d7-4833-93a0-d6658b3f6828",
        "colab": {
          "base_uri": "https://localhost:8080/",
          "height": 34
        }
      },
      "cell_type": "code",
      "source": [
        "#len(review2) #output: 51984\n",
        "#len(review3) #output: 43017\n",
        "len(reviewItaly)"
      ],
      "execution_count": 13,
      "outputs": [
        {
          "output_type": "execute_result",
          "data": {
            "text/plain": [
              "71875"
            ]
          },
          "metadata": {
            "tags": []
          },
          "execution_count": 13
        }
      ]
    },
    {
      "metadata": {
        "id": "rZ3hspHV-5rz",
        "colab_type": "code",
        "colab": {
          "base_uri": "https://localhost:8080/",
          "height": 289
        },
        "outputId": "39460ede-ad00-49fe-904b-c40d15fdffe0"
      },
      "cell_type": "code",
      "source": [
        "### The following sections ###\n",
        "### were exectued with the following hyper parameters ###\n",
        "#embed_dim = 128\n",
        "#lstm_out = 200\n",
        "#batch_size = 32\n",
        "#dropout layer\n",
        "#vocabulary size = 2000\n",
        "\n",
        "#activation function - softmax\n",
        "#optimized = adam\n",
        "#uses CuDNNLSTM !!!!! (GPU powered)\n",
        "\n",
        "\n",
        "embed_dim = 128\n",
        "lstm_out = 200\n",
        "batch_size = 32\n",
        "\n",
        "model = Sequential()\n",
        "model.add(Embedding(2000, embed_dim,input_length = X.shape[1]))\n",
        "model.add(SpatialDropout1D(0.2))\n",
        "model.add(CuDNNLSTM(lstm_out, return_sequences=False, input_shape=(869, 128)))\n",
        "model.add(Dense(2,activation='softmax'))\n",
        "model.compile(loss = 'categorical_crossentropy', optimizer='adam',metrics = ['accuracy'])\n",
        "print(model.summary())\n"
      ],
      "execution_count": 51,
      "outputs": [
        {
          "output_type": "stream",
          "text": [
            "_________________________________________________________________\n",
            "Layer (type)                 Output Shape              Param #   \n",
            "=================================================================\n",
            "embedding_6 (Embedding)      (None, 869, 128)          256000    \n",
            "_________________________________________________________________\n",
            "spatial_dropout1d_6 (Spatial (None, 869, 128)          0         \n",
            "_________________________________________________________________\n",
            "cu_dnnlstm_6 (CuDNNLSTM)     (None, 200)               264000    \n",
            "_________________________________________________________________\n",
            "dense_6 (Dense)              (None, 2)                 402       \n",
            "=================================================================\n",
            "Total params: 520,402\n",
            "Trainable params: 520,402\n",
            "Non-trainable params: 0\n",
            "_________________________________________________________________\n",
            "None\n"
          ],
          "name": "stdout"
        }
      ]
    },
    {
      "metadata": {
        "id": "MwVdEMxy_gCP",
        "colab_type": "code",
        "colab": {
          "base_uri": "https://localhost:8080/",
          "height": 51
        },
        "outputId": "b33043a9-c890-4058-b4f7-be37bb1f95a2"
      },
      "cell_type": "code",
      "source": [
        "#Y = pd.get_dummies(review2['sentiment']).values\n",
        "Y = pd.get_dummies(reviewItaly['sentiment']).values\n",
        "X_train, X_test, Y_train, Y_test = train_test_split(X,Y, test_size = 0.2, random_state = 42)\n",
        "print(X_train.shape,Y_train.shape)\n",
        "print(X_test.shape,Y_test.shape)"
      ],
      "execution_count": 15,
      "outputs": [
        {
          "output_type": "stream",
          "text": [
            "(57500, 932) (57500, 2)\n",
            "(14375, 932) (14375, 2)\n"
          ],
          "name": "stdout"
        }
      ]
    },
    {
      "metadata": {
        "id": "mdPmi1azMqM_",
        "colab_type": "code",
        "outputId": "43b5f60c-993b-43d3-9267-7e06aec700f1",
        "colab": {
          "base_uri": "https://localhost:8080/",
          "height": 119
        }
      },
      "cell_type": "code",
      "source": [
        "#Fit model\n",
        "model.fit(X, Y, validation_split=0.1, epochs=2, batch_size=batch_size, verbose=2)"
      ],
      "execution_count": 16,
      "outputs": [
        {
          "output_type": "stream",
          "text": [
            "Train on 64687 samples, validate on 7188 samples\n",
            "Epoch 1/2\n",
            " - 376s - loss: 0.2166 - acc: 0.9164 - val_loss: 0.1502 - val_acc: 0.9442\n",
            "Epoch 2/2\n",
            " - 372s - loss: 0.1419 - acc: 0.9470 - val_loss: 0.1299 - val_acc: 0.9534\n"
          ],
          "name": "stdout"
        },
        {
          "output_type": "execute_result",
          "data": {
            "text/plain": [
              "<keras.callbacks.History at 0x7f7882ac86a0>"
            ]
          },
          "metadata": {
            "tags": []
          },
          "execution_count": 16
        }
      ]
    },
    {
      "metadata": {
        "id": "8XWv2-GjanDu",
        "colab_type": "code",
        "outputId": "eb886f72-4a52-4485-ce93-92942ae5b499",
        "colab": {
          "base_uri": "https://localhost:8080/",
          "height": 51
        }
      },
      "cell_type": "code",
      "source": [
        "#score: evaluation of the loss function\n",
        "#loss, TEST accuracy\n",
        "score,acc = model.evaluate(X_test, Y_test, verbose = 2, batch_size = batch_size)\n",
        "print(\"Score: %.2f\" % (score))\n",
        "print(\"Validation Accuracy: %.4f\" % (acc))"
      ],
      "execution_count": 17,
      "outputs": [
        {
          "output_type": "stream",
          "text": [
            "Score: 0.10\n",
            "Validation Accuracy: 0.96\n"
          ],
          "name": "stdout"
        }
      ]
    },
    {
      "metadata": {
        "id": "Y7RsuIDPDDjg",
        "colab_type": "code",
        "colab": {
          "base_uri": "https://localhost:8080/",
          "height": 204
        },
        "outputId": "f62b8d68-a41b-4afa-e774-8f6ee46c0da5"
      },
      "cell_type": "code",
      "source": [
        "##MEXICAN RESTAURANT REVIEWS##\n",
        "\n",
        "download_path = '/content/drive/Team Drives/Deep Learning Team Drive/data'\n",
        "reviewMex = pd.read_pickle(os.path.join(download_path, 'mexican_reviews.pickle'))\n",
        "# Suffle review data before any other preprocessing\n",
        "shuffidx = np.random.RandomState(seed=2018).permutation(reviewMex.shape[0])\n",
        "\n",
        "# Preprocess\n",
        "reviewMex = reviewMex.iloc[shuffidx].reset_index(drop=True)\n",
        "reviewMex = reviewMex.loc[:, ['stars','text']]\n",
        "reviewMex = reviewMex[reviewMex.stars != 3]\n",
        "reviewMex.stars.value_counts() # check that there are no \"3\" stars\n",
        "reviewMex['sentiment']=['pos' if (x>3) else 'neg' for x in reviewMex['stars']] #add the sentiment column\n",
        "reviewMex.head()\n",
        "\n",
        "#lowercase/remove punctuations\n",
        "\n",
        "import re\n",
        "\n",
        "reviewMex['text']= [x.lower() for x in reviewMex['text']]\n",
        "reviewMex['text'] = reviewMex['text'].apply((lambda x: re.sub('[^a-zA-z0-9\\s]','',x)))\n",
        "reviewMex.head()"
      ],
      "execution_count": 21,
      "outputs": [
        {
          "output_type": "execute_result",
          "data": {
            "text/html": [
              "<div>\n",
              "<style scoped>\n",
              "    .dataframe tbody tr th:only-of-type {\n",
              "        vertical-align: middle;\n",
              "    }\n",
              "\n",
              "    .dataframe tbody tr th {\n",
              "        vertical-align: top;\n",
              "    }\n",
              "\n",
              "    .dataframe thead th {\n",
              "        text-align: right;\n",
              "    }\n",
              "</style>\n",
              "<table border=\"1\" class=\"dataframe\">\n",
              "  <thead>\n",
              "    <tr style=\"text-align: right;\">\n",
              "      <th></th>\n",
              "      <th>stars</th>\n",
              "      <th>text</th>\n",
              "      <th>sentiment</th>\n",
              "    </tr>\n",
              "  </thead>\n",
              "  <tbody>\n",
              "    <tr>\n",
              "      <th>0</th>\n",
              "      <td>5</td>\n",
              "      <td>amazing cheese enchiladas the beans are fantas...</td>\n",
              "      <td>pos</td>\n",
              "    </tr>\n",
              "    <tr>\n",
              "      <th>1</th>\n",
              "      <td>5</td>\n",
              "      <td>the place is great the food is even better if ...</td>\n",
              "      <td>pos</td>\n",
              "    </tr>\n",
              "    <tr>\n",
              "      <th>2</th>\n",
              "      <td>5</td>\n",
              "      <td>i love this place for a quick healthy i always...</td>\n",
              "      <td>pos</td>\n",
              "    </tr>\n",
              "    <tr>\n",
              "      <th>3</th>\n",
              "      <td>4</td>\n",
              "      <td>its possible that i  was just really hungry  i...</td>\n",
              "      <td>pos</td>\n",
              "    </tr>\n",
              "    <tr>\n",
              "      <th>4</th>\n",
              "      <td>5</td>\n",
              "      <td>great cheap eats here they have a 3 soft tacos...</td>\n",
              "      <td>pos</td>\n",
              "    </tr>\n",
              "  </tbody>\n",
              "</table>\n",
              "</div>"
            ],
            "text/plain": [
              "   stars                                               text sentiment\n",
              "0      5  amazing cheese enchiladas the beans are fantas...       pos\n",
              "1      5  the place is great the food is even better if ...       pos\n",
              "2      5  i love this place for a quick healthy i always...       pos\n",
              "3      4  its possible that i  was just really hungry  i...       pos\n",
              "4      5  great cheap eats here they have a 3 soft tacos...       pos"
            ]
          },
          "metadata": {
            "tags": []
          },
          "execution_count": 21
        }
      ]
    },
    {
      "metadata": {
        "id": "CV-7lt_yDDmr",
        "colab_type": "code",
        "colab": {}
      },
      "cell_type": "code",
      "source": [
        "tokenizer.fit_on_texts(reviewMex['text'].values)"
      ],
      "execution_count": 0,
      "outputs": []
    },
    {
      "metadata": {
        "id": "7cf2P93RDDrK",
        "colab_type": "code",
        "colab": {
          "base_uri": "https://localhost:8080/",
          "height": 51
        },
        "outputId": "5f2e15db-80ec-451f-dde7-21d94d77bd22"
      },
      "cell_type": "code",
      "source": [
        "X = tokenizer.texts_to_sequences(reviewMex['text'].values)\n",
        "X = pad_sequences(X)\n",
        "Y = pd.get_dummies(reviewMex['sentiment']).values\n",
        "X_train, X_test, Y_train, Y_test = train_test_split(X,Y, test_size = 0.2, random_state = 42)\n",
        "print(X_train.shape,Y_train.shape)\n",
        "print(X_test.shape,Y_test.shape)"
      ],
      "execution_count": 24,
      "outputs": [
        {
          "output_type": "stream",
          "text": [
            "(64582, 906) (64582, 2)\n",
            "(16146, 906) (16146, 2)\n"
          ],
          "name": "stdout"
        }
      ]
    },
    {
      "metadata": {
        "id": "UAm8h7_eDDy0",
        "colab_type": "code",
        "colab": {
          "base_uri": "https://localhost:8080/",
          "height": 119
        },
        "outputId": "dcbf28f4-8226-4e43-c121-eca170d521e9"
      },
      "cell_type": "code",
      "source": [
        "#Fit model\n",
        "model.fit(X, Y, validation_split=0.1, epochs=2, batch_size=batch_size, verbose=2)"
      ],
      "execution_count": 27,
      "outputs": [
        {
          "output_type": "stream",
          "text": [
            "Train on 72655 samples, validate on 8073 samples\n",
            "Epoch 1/2\n",
            " - 408s - loss: 0.2269 - acc: 0.9105 - val_loss: 0.1564 - val_acc: 0.9415\n",
            "Epoch 2/2\n",
            " - 407s - loss: 0.1639 - acc: 0.9364 - val_loss: 0.1375 - val_acc: 0.9491\n"
          ],
          "name": "stdout"
        },
        {
          "output_type": "execute_result",
          "data": {
            "text/plain": [
              "<keras.callbacks.History at 0x7f785b763b70>"
            ]
          },
          "metadata": {
            "tags": []
          },
          "execution_count": 27
        }
      ]
    },
    {
      "metadata": {
        "id": "ZD7Rlf8ODDpu",
        "colab_type": "code",
        "colab": {
          "base_uri": "https://localhost:8080/",
          "height": 51
        },
        "outputId": "b123a98a-1189-4d1d-f439-5e45f7b758ba"
      },
      "cell_type": "code",
      "source": [
        "#score: evaluation of the loss function\n",
        "#loss, TEST accuracy\n",
        "score,acc = model.evaluate(X_test, Y_test, verbose = 2, batch_size = batch_size)\n",
        "print(\"Score: %.2f\" % (score))\n",
        "print(\"Validation Accuracy: %.4f\" % (acc))"
      ],
      "execution_count": 29,
      "outputs": [
        {
          "output_type": "stream",
          "text": [
            "Score: 0.11\n",
            "Validation Accuracy: 0.9576\n"
          ],
          "name": "stdout"
        }
      ]
    },
    {
      "metadata": {
        "id": "xsGiGLLoIwoE",
        "colab_type": "code",
        "colab": {
          "base_uri": "https://localhost:8080/",
          "height": 204
        },
        "outputId": "d6e7226d-12e6-496a-e3de-8b682808f24d"
      },
      "cell_type": "code",
      "source": [
        "##HAIR SALON REVIEWS##\n",
        "\n",
        "download_path = '/content/drive/Team Drives/Deep Learning Team Drive/data'\n",
        "reviewHair = pd.read_pickle(os.path.join(download_path, 'salon_reviews.pickle'))\n",
        "# Suffle review data before any other preprocessing\n",
        "shuffidx = np.random.RandomState(seed=2018).permutation(reviewHair.shape[0])\n",
        "\n",
        "# Preprocess\n",
        "reviewHair = reviewHair.iloc[shuffidx].reset_index(drop=True)\n",
        "reviewHair = reviewHair.loc[:, ['stars','text']]\n",
        "reviewHair = reviewHair[reviewHair.stars != 3]\n",
        "reviewHair.stars.value_counts() # check that there are no \"3\" stars\n",
        "reviewHair['sentiment']=['pos' if (x>3) else 'neg' for x in reviewHair['stars']] #add the sentiment column\n",
        "reviewHair.head()\n",
        "\n",
        "#lowercase/remove punctuations\n",
        "\n",
        "import re\n",
        "\n",
        "reviewHair['text']= [x.lower() for x in reviewHair['text']]\n",
        "reviewHair['text'] = reviewHair['text'].apply((lambda x: re.sub('[^a-zA-z0-9\\s]','',x)))\n",
        "reviewHair.head()"
      ],
      "execution_count": 30,
      "outputs": [
        {
          "output_type": "execute_result",
          "data": {
            "text/html": [
              "<div>\n",
              "<style scoped>\n",
              "    .dataframe tbody tr th:only-of-type {\n",
              "        vertical-align: middle;\n",
              "    }\n",
              "\n",
              "    .dataframe tbody tr th {\n",
              "        vertical-align: top;\n",
              "    }\n",
              "\n",
              "    .dataframe thead th {\n",
              "        text-align: right;\n",
              "    }\n",
              "</style>\n",
              "<table border=\"1\" class=\"dataframe\">\n",
              "  <thead>\n",
              "    <tr style=\"text-align: right;\">\n",
              "      <th></th>\n",
              "      <th>stars</th>\n",
              "      <th>text</th>\n",
              "      <th>sentiment</th>\n",
              "    </tr>\n",
              "  </thead>\n",
              "  <tbody>\n",
              "    <tr>\n",
              "      <th>0</th>\n",
              "      <td>5</td>\n",
              "      <td>olivia gave me an awesome haircut  she got me ...</td>\n",
              "      <td>pos</td>\n",
              "    </tr>\n",
              "    <tr>\n",
              "      <th>1</th>\n",
              "      <td>5</td>\n",
              "      <td>robert is a lifesaver no joke i got home late ...</td>\n",
              "      <td>pos</td>\n",
              "    </tr>\n",
              "    <tr>\n",
              "      <th>2</th>\n",
              "      <td>5</td>\n",
              "      <td>after my stylist and colorist  left town i was...</td>\n",
              "      <td>pos</td>\n",
              "    </tr>\n",
              "    <tr>\n",
              "      <th>3</th>\n",
              "      <td>5</td>\n",
              "      <td>jai dcouvert aveda en arrivant au canada et ja...</td>\n",
              "      <td>pos</td>\n",
              "    </tr>\n",
              "    <tr>\n",
              "      <th>4</th>\n",
              "      <td>5</td>\n",
              "      <td>five of us were in town for a bachelorette par...</td>\n",
              "      <td>pos</td>\n",
              "    </tr>\n",
              "  </tbody>\n",
              "</table>\n",
              "</div>"
            ],
            "text/plain": [
              "   stars                                               text sentiment\n",
              "0      5  olivia gave me an awesome haircut  she got me ...       pos\n",
              "1      5  robert is a lifesaver no joke i got home late ...       pos\n",
              "2      5  after my stylist and colorist  left town i was...       pos\n",
              "3      5  jai dcouvert aveda en arrivant au canada et ja...       pos\n",
              "4      5  five of us were in town for a bachelorette par...       pos"
            ]
          },
          "metadata": {
            "tags": []
          },
          "execution_count": 30
        }
      ]
    },
    {
      "metadata": {
        "id": "E573-QSfIwrL",
        "colab_type": "code",
        "colab": {
          "base_uri": "https://localhost:8080/",
          "height": 51
        },
        "outputId": "08909cd6-e480-4c06-c681-6a0dc71cef73"
      },
      "cell_type": "code",
      "source": [
        "tokenizer.fit_on_texts(reviewHair['text'].values)\n",
        "X = tokenizer.texts_to_sequences(reviewHair['text'].values)\n",
        "X = pad_sequences(X)\n",
        "Y = pd.get_dummies(reviewHair['sentiment']).values\n",
        "X_train, X_test, Y_train, Y_test = train_test_split(X,Y, test_size = 0.2, random_state = 42)\n",
        "print(X_train.shape,Y_train.shape)\n",
        "print(X_test.shape,Y_test.shape)"
      ],
      "execution_count": 31,
      "outputs": [
        {
          "output_type": "stream",
          "text": [
            "(13218, 905) (13218, 2)\n",
            "(3305, 905) (3305, 2)\n"
          ],
          "name": "stdout"
        }
      ]
    },
    {
      "metadata": {
        "id": "XjAa8caBIwwt",
        "colab_type": "code",
        "colab": {
          "base_uri": "https://localhost:8080/",
          "height": 119
        },
        "outputId": "fa590d87-2c67-42de-fe75-79f46349c7ec"
      },
      "cell_type": "code",
      "source": [
        "#Fit model\n",
        "model.fit(X, Y, validation_split=0.1, epochs=2, batch_size=batch_size, verbose=2)"
      ],
      "execution_count": 34,
      "outputs": [
        {
          "output_type": "stream",
          "text": [
            "Train on 14870 samples, validate on 1653 samples\n",
            "Epoch 1/2\n",
            " - 84s - loss: 0.2252 - acc: 0.9117 - val_loss: 0.1441 - val_acc: 0.9468\n",
            "Epoch 2/2\n",
            " - 83s - loss: 0.1295 - acc: 0.9504 - val_loss: 0.2084 - val_acc: 0.9123\n"
          ],
          "name": "stdout"
        },
        {
          "output_type": "execute_result",
          "data": {
            "text/plain": [
              "<keras.callbacks.History at 0x7f785bbd7dd8>"
            ]
          },
          "metadata": {
            "tags": []
          },
          "execution_count": 34
        }
      ]
    },
    {
      "metadata": {
        "id": "H_hLigDJIw5L",
        "colab_type": "code",
        "colab": {
          "base_uri": "https://localhost:8080/",
          "height": 51
        },
        "outputId": "2a3477b6-3c52-4bdb-93e6-4e48bb379d58"
      },
      "cell_type": "code",
      "source": [
        "#score: evaluation of the loss function\n",
        "#loss, TEST accuracy\n",
        "score,acc = model.evaluate(X_test, Y_test, verbose = 2, batch_size = batch_size)\n",
        "print(\"Score: %.2f\" % (score))\n",
        "print(\"Validation Accuracy: %.4f\" % (acc))"
      ],
      "execution_count": 35,
      "outputs": [
        {
          "output_type": "stream",
          "text": [
            "Score: 0.19\n",
            "Validation Accuracy: 0.9207\n"
          ],
          "name": "stdout"
        }
      ]
    },
    {
      "metadata": {
        "id": "A5a8qJ9nIw3Q",
        "colab_type": "code",
        "colab": {
          "base_uri": "https://localhost:8080/",
          "height": 204
        },
        "outputId": "ce674efc-2d98-4e87-89cc-e2e688a6b4be"
      },
      "cell_type": "code",
      "source": [
        "##Home and Garden REVIEWS##\n",
        "\n",
        "download_path = '/content/drive/Team Drives/Deep Learning Team Drive/data'\n",
        "reviewHome = pd.read_pickle(os.path.join(download_path, 'homegarden_reviews.pickle'))\n",
        "# Suffle review data before any other preprocessing\n",
        "shuffidx = np.random.RandomState(seed=2018).permutation(reviewHome.shape[0])\n",
        "\n",
        "# Preprocess\n",
        "reviewHome = reviewHome.iloc[shuffidx].reset_index(drop=True)\n",
        "reviewHome = reviewHome.loc[:, ['stars','text']]\n",
        "reviewHome = reviewHome[reviewHome.stars != 3]\n",
        "reviewHome.stars.value_counts() # check that there are no \"3\" stars\n",
        "reviewHome['sentiment']=['pos' if (x>3) else 'neg' for x in reviewHome['stars']] #add the sentiment column\n",
        "reviewHome.head()\n",
        "\n",
        "#lowercase/remove punctuations\n",
        "\n",
        "import re\n",
        "\n",
        "reviewHome['text']= [x.lower() for x in reviewHome['text']]\n",
        "reviewHome['text'] = reviewHome['text'].apply((lambda x: re.sub('[^a-zA-z0-9\\s]','',x)))\n",
        "reviewHome.head()"
      ],
      "execution_count": 36,
      "outputs": [
        {
          "output_type": "execute_result",
          "data": {
            "text/html": [
              "<div>\n",
              "<style scoped>\n",
              "    .dataframe tbody tr th:only-of-type {\n",
              "        vertical-align: middle;\n",
              "    }\n",
              "\n",
              "    .dataframe tbody tr th {\n",
              "        vertical-align: top;\n",
              "    }\n",
              "\n",
              "    .dataframe thead th {\n",
              "        text-align: right;\n",
              "    }\n",
              "</style>\n",
              "<table border=\"1\" class=\"dataframe\">\n",
              "  <thead>\n",
              "    <tr style=\"text-align: right;\">\n",
              "      <th></th>\n",
              "      <th>stars</th>\n",
              "      <th>text</th>\n",
              "      <th>sentiment</th>\n",
              "    </tr>\n",
              "  </thead>\n",
              "  <tbody>\n",
              "    <tr>\n",
              "      <th>1</th>\n",
              "      <td>5</td>\n",
              "      <td>my wife and i were in phoenix for the weekend ...</td>\n",
              "      <td>pos</td>\n",
              "    </tr>\n",
              "    <tr>\n",
              "      <th>2</th>\n",
              "      <td>5</td>\n",
              "      <td>for home owners with pools we know how importa...</td>\n",
              "      <td>pos</td>\n",
              "    </tr>\n",
              "    <tr>\n",
              "      <th>3</th>\n",
              "      <td>5</td>\n",
              "      <td>cost plus makes me happy  its near my work and...</td>\n",
              "      <td>pos</td>\n",
              "    </tr>\n",
              "    <tr>\n",
              "      <th>4</th>\n",
              "      <td>5</td>\n",
              "      <td>you dont find many pool professionals that are...</td>\n",
              "      <td>pos</td>\n",
              "    </tr>\n",
              "    <tr>\n",
              "      <th>6</th>\n",
              "      <td>5</td>\n",
              "      <td>before i moved cross country from phoenix to c...</td>\n",
              "      <td>pos</td>\n",
              "    </tr>\n",
              "  </tbody>\n",
              "</table>\n",
              "</div>"
            ],
            "text/plain": [
              "   stars                                               text sentiment\n",
              "1      5  my wife and i were in phoenix for the weekend ...       pos\n",
              "2      5  for home owners with pools we know how importa...       pos\n",
              "3      5  cost plus makes me happy  its near my work and...       pos\n",
              "4      5  you dont find many pool professionals that are...       pos\n",
              "6      5  before i moved cross country from phoenix to c...       pos"
            ]
          },
          "metadata": {
            "tags": []
          },
          "execution_count": 36
        }
      ]
    },
    {
      "metadata": {
        "id": "S5aH501fIw1h",
        "colab_type": "code",
        "colab": {
          "base_uri": "https://localhost:8080/",
          "height": 51
        },
        "outputId": "d7e814e3-5b17-4f05-d3bb-54eaa61eafa5"
      },
      "cell_type": "code",
      "source": [
        "tokenizer.fit_on_texts(reviewHome['text'].values)\n",
        "X = tokenizer.texts_to_sequences(reviewHome['text'].values)\n",
        "X = pad_sequences(X)\n",
        "Y = pd.get_dummies(reviewHome['sentiment']).values\n",
        "X_train, X_test, Y_train, Y_test = train_test_split(X,Y, test_size = 0.2, random_state = 42)\n",
        "print(X_train.shape,Y_train.shape)\n",
        "print(X_test.shape,Y_test.shape)"
      ],
      "execution_count": 37,
      "outputs": [
        {
          "output_type": "stream",
          "text": [
            "(7288, 901) (7288, 2)\n",
            "(1823, 901) (1823, 2)\n"
          ],
          "name": "stdout"
        }
      ]
    },
    {
      "metadata": {
        "id": "H0TUzEJRIwzw",
        "colab_type": "code",
        "colab": {
          "base_uri": "https://localhost:8080/",
          "height": 119
        },
        "outputId": "69c3f3aa-4c5b-4809-fa34-efc8b51a5b54"
      },
      "cell_type": "code",
      "source": [
        "#Fit model\n",
        "model.fit(X, Y, validation_split=0.1, epochs=2, batch_size=batch_size, verbose=2)"
      ],
      "execution_count": 40,
      "outputs": [
        {
          "output_type": "stream",
          "text": [
            "Train on 8199 samples, validate on 912 samples\n",
            "Epoch 1/2\n",
            " - 47s - loss: 0.4049 - acc: 0.8186 - val_loss: 0.3274 - val_acc: 0.8794\n",
            "Epoch 2/2\n",
            " - 46s - loss: 0.2403 - acc: 0.9019 - val_loss: 0.2646 - val_acc: 0.8936\n"
          ],
          "name": "stdout"
        },
        {
          "output_type": "execute_result",
          "data": {
            "text/plain": [
              "<keras.callbacks.History at 0x7f78595be8d0>"
            ]
          },
          "metadata": {
            "tags": []
          },
          "execution_count": 40
        }
      ]
    },
    {
      "metadata": {
        "id": "cCxo5vlDLDFJ",
        "colab_type": "code",
        "colab": {
          "base_uri": "https://localhost:8080/",
          "height": 51
        },
        "outputId": "4c61c961-29ed-44da-8e18-5538f789cf2e"
      },
      "cell_type": "code",
      "source": [
        "#score: evaluation of the loss function\n",
        "#loss, TEST accuracy\n",
        "score,acc = model.evaluate(X_test, Y_test, verbose = 2, batch_size = batch_size)\n",
        "print(\"Score: %.2f\" % (score))\n",
        "print(\"Validation Accuracy: %.4f\" % (acc))"
      ],
      "execution_count": 41,
      "outputs": [
        {
          "output_type": "stream",
          "text": [
            "Score: 0.19\n",
            "Validation Accuracy: 0.9314\n"
          ],
          "name": "stdout"
        }
      ]
    },
    {
      "metadata": {
        "id": "nBcW5aNyK9Mq",
        "colab_type": "code",
        "colab": {
          "base_uri": "https://localhost:8080/",
          "height": 204
        },
        "outputId": "489a4d24-5dc8-402f-e6d2-c1f2677003f8"
      },
      "cell_type": "code",
      "source": [
        "##Band and Credit Union REVIEWS##\n",
        "\n",
        "download_path = '/content/drive/Team Drives/Deep Learning Team Drive/data'\n",
        "reviewBCU = pd.read_pickle(os.path.join(download_path, 'bankandcu_reviews.pickle'))\n",
        "# Suffle review data before any other preprocessing\n",
        "shuffidx = np.random.RandomState(seed=2018).permutation(reviewBCU.shape[0])\n",
        "\n",
        "# Preprocess\n",
        "reviewBCU = reviewBCU.iloc[shuffidx].reset_index(drop=True)\n",
        "reviewBCU = reviewBCU.loc[:, ['stars','text']]\n",
        "reviewBCU = reviewBCU[reviewBCU.stars != 3]\n",
        "reviewBCU.stars.value_counts() # check that there are no \"3\" stars\n",
        "reviewBCU['sentiment']=['pos' if (x>3) else 'neg' for x in reviewBCU['stars']] #add the sentiment column\n",
        "reviewBCU.head()\n",
        "\n",
        "#lowercase/remove punctuations\n",
        "\n",
        "import re\n",
        "\n",
        "reviewBCU['text']= [x.lower() for x in reviewBCU['text']]\n",
        "reviewBCU['text'] = reviewBCU['text'].apply((lambda x: re.sub('[^a-zA-z0-9\\s]','',x)))\n",
        "reviewBCU.head()"
      ],
      "execution_count": 42,
      "outputs": [
        {
          "output_type": "execute_result",
          "data": {
            "text/html": [
              "<div>\n",
              "<style scoped>\n",
              "    .dataframe tbody tr th:only-of-type {\n",
              "        vertical-align: middle;\n",
              "    }\n",
              "\n",
              "    .dataframe tbody tr th {\n",
              "        vertical-align: top;\n",
              "    }\n",
              "\n",
              "    .dataframe thead th {\n",
              "        text-align: right;\n",
              "    }\n",
              "</style>\n",
              "<table border=\"1\" class=\"dataframe\">\n",
              "  <thead>\n",
              "    <tr style=\"text-align: right;\">\n",
              "      <th></th>\n",
              "      <th>stars</th>\n",
              "      <th>text</th>\n",
              "      <th>sentiment</th>\n",
              "    </tr>\n",
              "  </thead>\n",
              "  <tbody>\n",
              "    <tr>\n",
              "      <th>0</th>\n",
              "      <td>1</td>\n",
              "      <td>at citibank had a cd there for 5 years earned ...</td>\n",
              "      <td>neg</td>\n",
              "    </tr>\n",
              "    <tr>\n",
              "      <th>1</th>\n",
              "      <td>2</td>\n",
              "      <td>its not the people but how the bank itself run...</td>\n",
              "      <td>neg</td>\n",
              "    </tr>\n",
              "    <tr>\n",
              "      <th>2</th>\n",
              "      <td>5</td>\n",
              "      <td>just dropping by to say that even as ive moved...</td>\n",
              "      <td>pos</td>\n",
              "    </tr>\n",
              "    <tr>\n",
              "      <th>3</th>\n",
              "      <td>1</td>\n",
              "      <td>this is a review of us banks in general as a b...</td>\n",
              "      <td>neg</td>\n",
              "    </tr>\n",
              "    <tr>\n",
              "      <th>5</th>\n",
              "      <td>4</td>\n",
              "      <td>received great assistant from the new manager ...</td>\n",
              "      <td>pos</td>\n",
              "    </tr>\n",
              "  </tbody>\n",
              "</table>\n",
              "</div>"
            ],
            "text/plain": [
              "   stars                                               text sentiment\n",
              "0      1  at citibank had a cd there for 5 years earned ...       neg\n",
              "1      2  its not the people but how the bank itself run...       neg\n",
              "2      5  just dropping by to say that even as ive moved...       pos\n",
              "3      1  this is a review of us banks in general as a b...       neg\n",
              "5      4  received great assistant from the new manager ...       pos"
            ]
          },
          "metadata": {
            "tags": []
          },
          "execution_count": 42
        }
      ]
    },
    {
      "metadata": {
        "id": "DXckvYpPK9S3",
        "colab_type": "code",
        "colab": {
          "base_uri": "https://localhost:8080/",
          "height": 51
        },
        "outputId": "fac0ef75-e93a-4424-d67e-f44e4c5ea5de"
      },
      "cell_type": "code",
      "source": [
        "tokenizer.fit_on_texts(reviewBCU['text'].values)\n",
        "X = tokenizer.texts_to_sequences(reviewBCU['text'].values)\n",
        "X = pad_sequences(X)\n",
        "Y = pd.get_dummies(reviewBCU['sentiment']).values\n",
        "X_train, X_test, Y_train, Y_test = train_test_split(X,Y, test_size = 0.2, random_state = 42)\n",
        "print(X_train.shape,Y_train.shape)\n",
        "print(X_test.shape,Y_test.shape)"
      ],
      "execution_count": 43,
      "outputs": [
        {
          "output_type": "stream",
          "text": [
            "(1071, 817) (1071, 2)\n",
            "(268, 817) (268, 2)\n"
          ],
          "name": "stdout"
        }
      ]
    },
    {
      "metadata": {
        "id": "wio-2OM1K9Qd",
        "colab_type": "code",
        "colab": {
          "base_uri": "https://localhost:8080/",
          "height": 119
        },
        "outputId": "90540d5e-351f-4f6b-b77f-8c098aa2a501"
      },
      "cell_type": "code",
      "source": [
        "#Fit model\n",
        "model.fit(X, Y, validation_split=0.1, epochs=2, batch_size=batch_size, verbose=2)"
      ],
      "execution_count": 46,
      "outputs": [
        {
          "output_type": "stream",
          "text": [
            "Train on 1205 samples, validate on 134 samples\n",
            "Epoch 1/2\n",
            " - 7s - loss: 0.6731 - acc: 0.5925 - val_loss: 0.6698 - val_acc: 0.6194\n",
            "Epoch 2/2\n",
            " - 6s - loss: 0.4512 - acc: 0.7917 - val_loss: 0.4090 - val_acc: 0.8507\n"
          ],
          "name": "stdout"
        },
        {
          "output_type": "execute_result",
          "data": {
            "text/plain": [
              "<keras.callbacks.History at 0x7f78590fd6a0>"
            ]
          },
          "metadata": {
            "tags": []
          },
          "execution_count": 46
        }
      ]
    },
    {
      "metadata": {
        "id": "Q1JaFxbrIwun",
        "colab_type": "code",
        "colab": {
          "base_uri": "https://localhost:8080/",
          "height": 51
        },
        "outputId": "cb4db064-9f23-49c0-b030-2c2fad5017d2"
      },
      "cell_type": "code",
      "source": [
        "#score: evaluation of the loss function\n",
        "#loss, TEST accuracy\n",
        "score,acc = model.evaluate(X_test, Y_test, verbose = 2, batch_size = batch_size)\n",
        "print(\"Score: %.2f\" % (score))\n",
        "print(\"Validation Accuracy: %.4f\" % (acc))"
      ],
      "execution_count": 47,
      "outputs": [
        {
          "output_type": "stream",
          "text": [
            "Score: 0.35\n",
            "Validation Accuracy: 0.8507\n"
          ],
          "name": "stdout"
        }
      ]
    },
    {
      "metadata": {
        "id": "4JcvPm9zMY_s",
        "colab_type": "code",
        "colab": {
          "base_uri": "https://localhost:8080/",
          "height": 204
        },
        "outputId": "096f861c-6498-4f57-8a25-163e203edae5"
      },
      "cell_type": "code",
      "source": [
        "##Chinese REVIEWS##\n",
        "\n",
        "download_path = '/content/drive/Team Drives/Deep Learning Team Drive/data'\n",
        "reviewChin = pd.read_pickle(os.path.join(download_path, 'chinese_reviews.pickle'))\n",
        "# Suffle review data before any other preprocessing\n",
        "shuffidx = np.random.RandomState(seed=2018).permutation(reviewChin.shape[0])\n",
        "\n",
        "# Preprocess\n",
        "reviewChin = reviewChin.iloc[shuffidx].reset_index(drop=True)\n",
        "reviewChin = reviewChin.loc[:, ['stars','text']]\n",
        "reviewChin = reviewChin[reviewChin.stars != 3]\n",
        "reviewChin.stars.value_counts() # check that there are no \"3\" stars\n",
        "reviewChin['sentiment']=['pos' if (x>3) else 'neg' for x in reviewChin['stars']] #add the sentiment column\n",
        "reviewChin.head()\n",
        "\n",
        "#lowercase/remove punctuations\n",
        "\n",
        "import re\n",
        "\n",
        "reviewChin['text']= [x.lower() for x in reviewChin['text']]\n",
        "reviewChin['text'] = reviewChin['text'].apply((lambda x: re.sub('[^a-zA-z0-9\\s]','',x)))\n",
        "reviewChin.head()"
      ],
      "execution_count": 48,
      "outputs": [
        {
          "output_type": "execute_result",
          "data": {
            "text/html": [
              "<div>\n",
              "<style scoped>\n",
              "    .dataframe tbody tr th:only-of-type {\n",
              "        vertical-align: middle;\n",
              "    }\n",
              "\n",
              "    .dataframe tbody tr th {\n",
              "        vertical-align: top;\n",
              "    }\n",
              "\n",
              "    .dataframe thead th {\n",
              "        text-align: right;\n",
              "    }\n",
              "</style>\n",
              "<table border=\"1\" class=\"dataframe\">\n",
              "  <thead>\n",
              "    <tr style=\"text-align: right;\">\n",
              "      <th></th>\n",
              "      <th>stars</th>\n",
              "      <th>text</th>\n",
              "      <th>sentiment</th>\n",
              "    </tr>\n",
              "  </thead>\n",
              "  <tbody>\n",
              "    <tr>\n",
              "      <th>0</th>\n",
              "      <td>4</td>\n",
              "      <td>ive been to this place many times and it has c...</td>\n",
              "      <td>pos</td>\n",
              "    </tr>\n",
              "    <tr>\n",
              "      <th>1</th>\n",
              "      <td>4</td>\n",
              "      <td>chicago snowbird turned us on to this restaura...</td>\n",
              "      <td>pos</td>\n",
              "    </tr>\n",
              "    <tr>\n",
              "      <th>3</th>\n",
              "      <td>2</td>\n",
              "      <td>the item i wanted when i went thru the drive t...</td>\n",
              "      <td>neg</td>\n",
              "    </tr>\n",
              "    <tr>\n",
              "      <th>4</th>\n",
              "      <td>2</td>\n",
              "      <td>no i was not happy with my order its  a new pl...</td>\n",
              "      <td>neg</td>\n",
              "    </tr>\n",
              "    <tr>\n",
              "      <th>7</th>\n",
              "      <td>4</td>\n",
              "      <td>tasty is accurate this is chinese for white pe...</td>\n",
              "      <td>pos</td>\n",
              "    </tr>\n",
              "  </tbody>\n",
              "</table>\n",
              "</div>"
            ],
            "text/plain": [
              "   stars                                               text sentiment\n",
              "0      4  ive been to this place many times and it has c...       pos\n",
              "1      4  chicago snowbird turned us on to this restaura...       pos\n",
              "3      2  the item i wanted when i went thru the drive t...       neg\n",
              "4      2  no i was not happy with my order its  a new pl...       neg\n",
              "7      4  tasty is accurate this is chinese for white pe...       pos"
            ]
          },
          "metadata": {
            "tags": []
          },
          "execution_count": 48
        }
      ]
    },
    {
      "metadata": {
        "id": "CdLW0CTHMZDA",
        "colab_type": "code",
        "colab": {
          "base_uri": "https://localhost:8080/",
          "height": 51
        },
        "outputId": "d38cde6b-e60f-45a5-999b-66db27e802dc"
      },
      "cell_type": "code",
      "source": [
        "tokenizer.fit_on_texts(reviewChin['text'].values)\n",
        "X = tokenizer.texts_to_sequences(reviewChin['text'].values)\n",
        "X = pad_sequences(X)\n",
        "Y = pd.get_dummies(reviewChin['sentiment']).values\n",
        "X_train, X_test, Y_train, Y_test = train_test_split(X,Y, test_size = 0.2, random_state = 42)\n",
        "print(X_train.shape,Y_train.shape)\n",
        "print(X_test.shape,Y_test.shape)"
      ],
      "execution_count": 49,
      "outputs": [
        {
          "output_type": "stream",
          "text": [
            "(34413, 869) (34413, 2)\n",
            "(8604, 869) (8604, 2)\n"
          ],
          "name": "stdout"
        }
      ]
    },
    {
      "metadata": {
        "id": "7xsiCiJTM8PL",
        "colab_type": "code",
        "colab": {
          "base_uri": "https://localhost:8080/",
          "height": 119
        },
        "outputId": "6bbdd8c5-e99b-4299-a7d7-efa4948f00f3"
      },
      "cell_type": "code",
      "source": [
        "#Fit model\n",
        "model.fit(X, Y, validation_split=0.1, epochs=2, batch_size=batch_size, verbose=2)"
      ],
      "execution_count": 52,
      "outputs": [
        {
          "output_type": "stream",
          "text": [
            "Train on 38715 samples, validate on 4302 samples\n",
            "Epoch 1/2\n",
            " - 210s - loss: 0.3562 - acc: 0.8490 - val_loss: 0.2123 - val_acc: 0.9203\n",
            "Epoch 2/2\n",
            " - 209s - loss: 0.1795 - acc: 0.9303 - val_loss: 0.1782 - val_acc: 0.9284\n"
          ],
          "name": "stdout"
        },
        {
          "output_type": "execute_result",
          "data": {
            "text/plain": [
              "<keras.callbacks.History at 0x7f78583e6e48>"
            ]
          },
          "metadata": {
            "tags": []
          },
          "execution_count": 52
        }
      ]
    },
    {
      "metadata": {
        "id": "fLrLbb1YO7yc",
        "colab_type": "code",
        "colab": {
          "base_uri": "https://localhost:8080/",
          "height": 51
        },
        "outputId": "0db8e276-6641-485f-c5ad-a307329c3068"
      },
      "cell_type": "code",
      "source": [
        "#score: evaluation of the loss function\n",
        "#loss, TEST accuracy\n",
        "score,acc = model.evaluate(X_test, Y_test, verbose = 2, batch_size = batch_size)\n",
        "print(\"Score: %.2f\" % (score))\n",
        "print(\"Validation Accuracy: %.4f\" % (acc))"
      ],
      "execution_count": 53,
      "outputs": [
        {
          "output_type": "stream",
          "text": [
            "Score: 0.15\n",
            "Validation Accuracy: 0.9455\n"
          ],
          "name": "stdout"
        }
      ]
    }
  ]
}