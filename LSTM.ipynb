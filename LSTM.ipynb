{
  "nbformat": 4,
  "nbformat_minor": 0,
  "metadata": {
    "colab": {
      "name": "LSTM.ipynb",
      "version": "0.3.2",
      "provenance": [],
      "collapsed_sections": []
    },
    "kernelspec": {
      "name": "python3",
      "display_name": "Python 3"
    },
    "accelerator": "GPU"
  },
  "cells": [
    {
      "metadata": {
        "id": "dGzWgxUdpKQ0",
        "colab_type": "code",
        "outputId": "8d160562-39f4-4842-bdf0-f33ce1188484",
        "colab": {
          "base_uri": "https://localhost:8080/",
          "height": 122
        }
      },
      "cell_type": "code",
      "source": [
        "# Mount Google Drive (required if running on Google Colab)\n",
        "from google.colab import drive\n",
        "drive.mount('/content/drive')"
      ],
      "execution_count": 4,
      "outputs": [
        {
          "output_type": "stream",
          "text": [
            "Go to this URL in a browser: https://accounts.google.com/o/oauth2/auth?client_id=947318989803-6bn6qk8qdgf4n4g3pfee6491hc0brc4i.apps.googleusercontent.com&redirect_uri=urn%3Aietf%3Awg%3Aoauth%3A2.0%3Aoob&scope=email%20https%3A%2F%2Fwww.googleapis.com%2Fauth%2Fdocs.test%20https%3A%2F%2Fwww.googleapis.com%2Fauth%2Fdrive%20https%3A%2F%2Fwww.googleapis.com%2Fauth%2Fdrive.photos.readonly%20https%3A%2F%2Fwww.googleapis.com%2Fauth%2Fpeopleapi.readonly&response_type=code\n",
            "\n",
            "Enter your authorization code:\n",
            "··········\n",
            "Mounted at /content/drive\n"
          ],
          "name": "stdout"
        }
      ]
    },
    {
      "metadata": {
        "id": "4mEpLX3Po-G-",
        "colab_type": "code",
        "outputId": "f8ff1311-c329-4934-b259-5cb91a29a710",
        "colab": {
          "base_uri": "https://localhost:8080/",
          "height": 1091
        }
      },
      "cell_type": "code",
      "source": [
        "# Install required modules\n",
        "# !pip install '/content/drive/Team Drives/Deep Learning Team Drive/yelp_dataset_challenge-master/yelp_util'\n",
        "!pip install Cython\n",
        "# !pip install word2vec\n",
        "!pip install gensim\n",
        "!pip install unidecode\n",
        "!pip install textblob\n",
        "\n",
        "\n",
        "# Import required modules\n",
        "import nltk\n",
        "nltk.download('punkt')\n",
        "nltk.download('stopwords')\n",
        "\n",
        "# import yelp_util\n",
        "# from yelp_util import downloader as dl\n",
        "import os\n",
        "from scipy import misc\n",
        "import numpy as np\n",
        "import tensorflow as tf\n",
        "from gensim.models import Word2Vec\n",
        "import pandas as pd\n",
        "import random\n"
      ],
      "execution_count": 5,
      "outputs": [
        {
          "output_type": "stream",
          "text": [
            "Collecting Cython\n",
            "\u001b[?25l  Downloading https://files.pythonhosted.org/packages/a2/e0/0592be5b851c8013aa253592606ca265862d27444d908e029fd75d563c9c/Cython-0.29.1-cp36-cp36m-manylinux1_x86_64.whl (2.1MB)\n",
            "\u001b[K    100% |████████████████████████████████| 2.1MB 12.9MB/s \n",
            "\u001b[?25hInstalling collected packages: Cython\n",
            "Successfully installed Cython-0.29.1\n",
            "Collecting gensim\n",
            "\u001b[?25l  Downloading https://files.pythonhosted.org/packages/27/a4/d10c0acc8528d838cda5eede0ee9c784caa598dbf40bd0911ff8d067a7eb/gensim-3.6.0-cp36-cp36m-manylinux1_x86_64.whl (23.6MB)\n",
            "\u001b[K    100% |████████████████████████████████| 23.6MB 1.7MB/s \n",
            "\u001b[?25hRequirement already satisfied: numpy>=1.11.3 in /usr/local/lib/python3.6/dist-packages (from gensim) (1.14.6)\n",
            "Collecting smart-open>=1.2.1 (from gensim)\n",
            "  Downloading https://files.pythonhosted.org/packages/4b/1f/6f27e3682124de63ac97a0a5876da6186de6c19410feab66c1543afab055/smart_open-1.7.1.tar.gz\n",
            "Requirement already satisfied: scipy>=0.18.1 in /usr/local/lib/python3.6/dist-packages (from gensim) (1.1.0)\n",
            "Requirement already satisfied: six>=1.5.0 in /usr/local/lib/python3.6/dist-packages (from gensim) (1.11.0)\n",
            "Collecting boto>=2.32 (from smart-open>=1.2.1->gensim)\n",
            "\u001b[?25l  Downloading https://files.pythonhosted.org/packages/23/10/c0b78c27298029e4454a472a1919bde20cb182dab1662cec7f2ca1dcc523/boto-2.49.0-py2.py3-none-any.whl (1.4MB)\n",
            "\u001b[K    100% |████████████████████████████████| 1.4MB 13.2MB/s \n",
            "\u001b[?25hCollecting bz2file (from smart-open>=1.2.1->gensim)\n",
            "  Downloading https://files.pythonhosted.org/packages/61/39/122222b5e85cd41c391b68a99ee296584b2a2d1d233e7ee32b4532384f2d/bz2file-0.98.tar.gz\n",
            "Requirement already satisfied: requests in /usr/local/lib/python3.6/dist-packages (from smart-open>=1.2.1->gensim) (2.18.4)\n",
            "Collecting boto3 (from smart-open>=1.2.1->gensim)\n",
            "\u001b[?25l  Downloading https://files.pythonhosted.org/packages/9c/b9/7df67f1775d240ac8d111211f967fa75ecc9968ae79ffa0594e36345445f/boto3-1.9.62-py2.py3-none-any.whl (128kB)\n",
            "\u001b[K    100% |████████████████████████████████| 133kB 26.5MB/s \n",
            "\u001b[?25hRequirement already satisfied: certifi>=2017.4.17 in /usr/local/lib/python3.6/dist-packages (from requests->smart-open>=1.2.1->gensim) (2018.11.29)\n",
            "Requirement already satisfied: urllib3<1.23,>=1.21.1 in /usr/local/lib/python3.6/dist-packages (from requests->smart-open>=1.2.1->gensim) (1.22)\n",
            "Requirement already satisfied: chardet<3.1.0,>=3.0.2 in /usr/local/lib/python3.6/dist-packages (from requests->smart-open>=1.2.1->gensim) (3.0.4)\n",
            "Requirement already satisfied: idna<2.7,>=2.5 in /usr/local/lib/python3.6/dist-packages (from requests->smart-open>=1.2.1->gensim) (2.6)\n",
            "Collecting s3transfer<0.2.0,>=0.1.10 (from boto3->smart-open>=1.2.1->gensim)\n",
            "\u001b[?25l  Downloading https://files.pythonhosted.org/packages/d7/14/2a0004d487464d120c9fb85313a75cd3d71a7506955be458eebfe19a6b1d/s3transfer-0.1.13-py2.py3-none-any.whl (59kB)\n",
            "\u001b[K    100% |████████████████████████████████| 61kB 23.0MB/s \n",
            "\u001b[?25hCollecting jmespath<1.0.0,>=0.7.1 (from boto3->smart-open>=1.2.1->gensim)\n",
            "  Downloading https://files.pythonhosted.org/packages/b7/31/05c8d001f7f87f0f07289a5fc0fc3832e9a57f2dbd4d3b0fee70e0d51365/jmespath-0.9.3-py2.py3-none-any.whl\n",
            "Collecting botocore<1.13.0,>=1.12.62 (from boto3->smart-open>=1.2.1->gensim)\n",
            "\u001b[?25l  Downloading https://files.pythonhosted.org/packages/e2/77/35e82076e3beb506280f94213a258819378115f174e516ce69b3a2336e1c/botocore-1.12.62-py2.py3-none-any.whl (5.1MB)\n",
            "\u001b[K    100% |████████████████████████████████| 5.1MB 6.5MB/s \n",
            "\u001b[?25hCollecting docutils>=0.10 (from botocore<1.13.0,>=1.12.62->boto3->smart-open>=1.2.1->gensim)\n",
            "\u001b[?25l  Downloading https://files.pythonhosted.org/packages/36/fa/08e9e6e0e3cbd1d362c3bbee8d01d0aedb2155c4ac112b19ef3cae8eed8d/docutils-0.14-py3-none-any.whl (543kB)\n",
            "\u001b[K    100% |████████████████████████████████| 552kB 23.6MB/s \n",
            "\u001b[?25hRequirement already satisfied: python-dateutil<3.0.0,>=2.1; python_version >= \"2.7\" in /usr/local/lib/python3.6/dist-packages (from botocore<1.13.0,>=1.12.62->boto3->smart-open>=1.2.1->gensim) (2.5.3)\n",
            "Building wheels for collected packages: smart-open, bz2file\n",
            "  Running setup.py bdist_wheel for smart-open ... \u001b[?25l-\b \b\\\b \bdone\n",
            "\u001b[?25h  Stored in directory: /root/.cache/pip/wheels/23/00/44/e5b939f7a80c04e32297dbd6d96fa3065af89ecf57e2b5f89f\n",
            "  Running setup.py bdist_wheel for bz2file ... \u001b[?25l-\b \bdone\n",
            "\u001b[?25h  Stored in directory: /root/.cache/pip/wheels/81/75/d6/e1317bf09bf1af5a30befc2a007869fa6e1f516b8f7c591cb9\n",
            "Successfully built smart-open bz2file\n",
            "Installing collected packages: boto, bz2file, docutils, jmespath, botocore, s3transfer, boto3, smart-open, gensim\n",
            "Successfully installed boto-2.49.0 boto3-1.9.62 botocore-1.12.62 bz2file-0.98 docutils-0.14 gensim-3.6.0 jmespath-0.9.3 s3transfer-0.1.13 smart-open-1.7.1\n",
            "Collecting unidecode\n",
            "\u001b[?25l  Downloading https://files.pythonhosted.org/packages/31/39/53096f9217b057cb049fe872b7fc7ce799a1a89b76cf917d9639e7a558b5/Unidecode-1.0.23-py2.py3-none-any.whl (237kB)\n",
            "\u001b[K    100% |████████████████████████████████| 245kB 8.7MB/s \n",
            "\u001b[?25hInstalling collected packages: unidecode\n",
            "Successfully installed unidecode-1.0.23\n",
            "Collecting textblob\n",
            "\u001b[?25l  Downloading https://files.pythonhosted.org/packages/7c/7d/ad09a26b63d4ad3f9395840c72c95f2fc9fa2b192094ef14e9e720be56f9/textblob-0.15.2-py2.py3-none-any.whl (636kB)\n",
            "\u001b[K    100% |████████████████████████████████| 645kB 20.5MB/s \n",
            "\u001b[?25hRequirement already satisfied: nltk>=3.1 in /usr/local/lib/python3.6/dist-packages (from textblob) (3.2.5)\n",
            "Requirement already satisfied: six in /usr/local/lib/python3.6/dist-packages (from nltk>=3.1->textblob) (1.11.0)\n",
            "Installing collected packages: textblob\n",
            "Successfully installed textblob-0.15.2\n",
            "[nltk_data] Downloading package punkt to /root/nltk_data...\n",
            "[nltk_data]   Unzipping tokenizers/punkt.zip.\n",
            "[nltk_data] Downloading package stopwords to /root/nltk_data...\n",
            "[nltk_data]   Unzipping corpora/stopwords.zip.\n"
          ],
          "name": "stdout"
        }
      ]
    },
    {
      "metadata": {
        "id": "y49vhmPDr_Il",
        "colab_type": "code",
        "colab": {}
      },
      "cell_type": "code",
      "source": [
        "# Download and unpickle data\n",
        "download_path =  '/content/drive/Team Drives/Deep Learning Team Drive/data'\n",
        "review = pd.read_pickle(os.path.join(download_path, 'chinese_reviews.pickle'))\n",
        "#review = review.loc[:, ['stars','text']] #use only stars & text columns"
      ],
      "execution_count": 0,
      "outputs": []
    },
    {
      "metadata": {
        "id": "-do42efnKgEN",
        "colab_type": "code",
        "colab": {}
      },
      "cell_type": "code",
      "source": [
        "## <Preprocesing Tips> ##\n",
        "\n",
        "## CLEANING DATA ##\n",
        "#import string as str\n",
        "\n",
        "#all lowercase\n",
        "#review.text = review.text.apply(lambda x: x.lower())\n",
        "\n",
        "#remove punctuations\n",
        "#review.text = review.text.str.replace('[^\\w\\s]','')\n",
        "\n",
        "#remove stop words\n",
        "#from nltk.corpus import stopwords\n",
        "#stop = stopwords.words('english')\n",
        "#review.text = review.text.apply(lambda x: \" \".join(x for x in x.split() if x not in stop))\n",
        "\n",
        "#review[:10]\n",
        "\n",
        "#10 most common words.\n",
        "#freq = pd.Series(' '.join(review.text).split()).value_counts()[:10]\n",
        "#freq\n",
        "\n",
        "#remove common words\n",
        "#remove: Chinese, food, place, one\n",
        "#freq = ['food','chinese','place','one']\n",
        "#review.text = review.text.apply(lambda x: \" \".join(x for x in x.split() if x not in freq))\n",
        "#review[:10] #notice the word chinese is gone in row 9\n",
        "\n",
        "#10 most rare words\n",
        "#freq = pd.Series(' '.join(review.text).split()).value_counts()[-10:]\n",
        "#freq\n",
        "#remove those 10 words (as an example) - may be ok with removing more..\n",
        "#freq = list(freq.index)\n",
        "#review.text = review.text.apply(lambda x: \" \".join(x for x in x.split() if x not in freq))\n",
        "#review[:10]\n",
        "\n",
        "#spelling correction\n",
        "#from textblob import TextBlob\n",
        "#review.text[:5].apply(lambda x: str(TextBlob(x).correct()))\n"
      ],
      "execution_count": 0,
      "outputs": []
    },
    {
      "metadata": {
        "id": "z6Z5WHV4GLca",
        "colab_type": "code",
        "colab": {}
      },
      "cell_type": "code",
      "source": [
        "#################\n",
        "#### L S T M ####\n",
        "##### starts ####\n",
        "##### here ######\n",
        "#################\n",
        "\n",
        "\n",
        "\n",
        "review2 = review.loc[:, ['stars','text']]\n",
        "#review2.head()\n",
        "#review3 = review.loc[:, ['stars','text']]\n"
      ],
      "execution_count": 0,
      "outputs": []
    },
    {
      "metadata": {
        "id": "gP5Obq7ebQbB",
        "colab_type": "code",
        "outputId": "02fdd5db-f9b7-43c0-a109-8c6b6941beee",
        "colab": {
          "base_uri": "https://localhost:8080/",
          "height": 204
        }
      },
      "cell_type": "code",
      "source": [
        "#Option 1: review2 makes stars > 3 = positive, and the rest negative\n",
        "\n",
        "review2['sentiment']=['pos' if (x>3) else 'neg' for x in review2['stars']]\n",
        "review2.head()\n",
        "\n",
        "#Option 2: review3 makes stars > 3 = positive, and stars = 2 or 1 negative. 3 are neutral/not considered for analysis.\n",
        "\n",
        "#get rid of rows with 3 stars\n",
        "#review3 = review3[review3.stars != 3]\n",
        "#review3.stars.value_counts() # check that there are no \"3\" stars\n",
        "#review3['sentiment']=['pos' if (x>3) else 'neg' for x in review3['stars']] #add the sentiment column\n",
        "#review3.head()"
      ],
      "execution_count": 8,
      "outputs": [
        {
          "output_type": "execute_result",
          "data": {
            "text/html": [
              "<div>\n",
              "<style scoped>\n",
              "    .dataframe tbody tr th:only-of-type {\n",
              "        vertical-align: middle;\n",
              "    }\n",
              "\n",
              "    .dataframe tbody tr th {\n",
              "        vertical-align: top;\n",
              "    }\n",
              "\n",
              "    .dataframe thead th {\n",
              "        text-align: right;\n",
              "    }\n",
              "</style>\n",
              "<table border=\"1\" class=\"dataframe\">\n",
              "  <thead>\n",
              "    <tr style=\"text-align: right;\">\n",
              "      <th></th>\n",
              "      <th>stars</th>\n",
              "      <th>text</th>\n",
              "      <th>sentiment</th>\n",
              "    </tr>\n",
              "  </thead>\n",
              "  <tbody>\n",
              "    <tr>\n",
              "      <th>136</th>\n",
              "      <td>3</td>\n",
              "      <td>Don Don is a restaurant I find myself missing ...</td>\n",
              "      <td>neg</td>\n",
              "    </tr>\n",
              "    <tr>\n",
              "      <th>137</th>\n",
              "      <td>1</td>\n",
              "      <td>Take it from me; avoid this place at all cost....</td>\n",
              "      <td>neg</td>\n",
              "    </tr>\n",
              "    <tr>\n",
              "      <th>138</th>\n",
              "      <td>2</td>\n",
              "      <td>Far away from real Chinese food. Doesn't even ...</td>\n",
              "      <td>neg</td>\n",
              "    </tr>\n",
              "    <tr>\n",
              "      <th>139</th>\n",
              "      <td>2</td>\n",
              "      <td>I used to order takeout here once every month ...</td>\n",
              "      <td>neg</td>\n",
              "    </tr>\n",
              "    <tr>\n",
              "      <th>140</th>\n",
              "      <td>4</td>\n",
              "      <td>Delicious Singapore noodles and seafood deligh...</td>\n",
              "      <td>pos</td>\n",
              "    </tr>\n",
              "  </tbody>\n",
              "</table>\n",
              "</div>"
            ],
            "text/plain": [
              "     stars                                               text sentiment\n",
              "136      3  Don Don is a restaurant I find myself missing ...       neg\n",
              "137      1  Take it from me; avoid this place at all cost....       neg\n",
              "138      2  Far away from real Chinese food. Doesn't even ...       neg\n",
              "139      2  I used to order takeout here once every month ...       neg\n",
              "140      4  Delicious Singapore noodles and seafood deligh...       pos"
            ]
          },
          "metadata": {
            "tags": []
          },
          "execution_count": 8
        }
      ]
    },
    {
      "metadata": {
        "id": "AilR_b_j3cpV",
        "colab_type": "code",
        "outputId": "b9218e73-2d58-4178-9962-7f569654f6bd",
        "colab": {
          "base_uri": "https://localhost:8080/",
          "height": 204
        }
      },
      "cell_type": "code",
      "source": [
        "#lowercase/remove punctuations\n",
        "\n",
        "import re\n",
        "review2['text']= [x.lower() for x in review2['text']]\n",
        "review2['text'] = review2['text'].apply((lambda x: re.sub('[^a-zA-z0-9\\s]','',x)))\n",
        "review2.head()\n",
        "\n",
        "#review3['text']= [x.lower() for x in review3['text']]\n",
        "#review3['text'] = review3['text'].apply((lambda x: re.sub('[^a-zA-z0-9\\s]','',x)))\n",
        "#review3.head()"
      ],
      "execution_count": 7,
      "outputs": [
        {
          "output_type": "execute_result",
          "data": {
            "text/html": [
              "<div>\n",
              "<style scoped>\n",
              "    .dataframe tbody tr th:only-of-type {\n",
              "        vertical-align: middle;\n",
              "    }\n",
              "\n",
              "    .dataframe tbody tr th {\n",
              "        vertical-align: top;\n",
              "    }\n",
              "\n",
              "    .dataframe thead th {\n",
              "        text-align: right;\n",
              "    }\n",
              "</style>\n",
              "<table border=\"1\" class=\"dataframe\">\n",
              "  <thead>\n",
              "    <tr style=\"text-align: right;\">\n",
              "      <th></th>\n",
              "      <th>stars</th>\n",
              "      <th>text</th>\n",
              "      <th>sentiment</th>\n",
              "    </tr>\n",
              "  </thead>\n",
              "  <tbody>\n",
              "    <tr>\n",
              "      <th>136</th>\n",
              "      <td>3</td>\n",
              "      <td>don don is a restaurant i find myself missing ...</td>\n",
              "      <td>neg</td>\n",
              "    </tr>\n",
              "    <tr>\n",
              "      <th>137</th>\n",
              "      <td>1</td>\n",
              "      <td>take it from me avoid this place at all cost  ...</td>\n",
              "      <td>neg</td>\n",
              "    </tr>\n",
              "    <tr>\n",
              "      <th>138</th>\n",
              "      <td>2</td>\n",
              "      <td>far away from real chinese food doesnt even ta...</td>\n",
              "      <td>neg</td>\n",
              "    </tr>\n",
              "    <tr>\n",
              "      <th>139</th>\n",
              "      <td>2</td>\n",
              "      <td>i used to order takeout here once every month ...</td>\n",
              "      <td>neg</td>\n",
              "    </tr>\n",
              "    <tr>\n",
              "      <th>140</th>\n",
              "      <td>4</td>\n",
              "      <td>delicious singapore noodles and seafood deligh...</td>\n",
              "      <td>pos</td>\n",
              "    </tr>\n",
              "  </tbody>\n",
              "</table>\n",
              "</div>"
            ],
            "text/plain": [
              "     stars                                               text sentiment\n",
              "136      3  don don is a restaurant i find myself missing ...       neg\n",
              "137      1  take it from me avoid this place at all cost  ...       neg\n",
              "138      2  far away from real chinese food doesnt even ta...       neg\n",
              "139      2  i used to order takeout here once every month ...       neg\n",
              "140      4  delicious singapore noodles and seafood deligh...       pos"
            ]
          },
          "metadata": {
            "tags": []
          },
          "execution_count": 7
        }
      ]
    },
    {
      "metadata": {
        "id": "NOoFzkRK3cyC",
        "colab_type": "code",
        "outputId": "a4a12a02-a3f0-4fdf-97ac-e1a062415a01",
        "colab": {
          "base_uri": "https://localhost:8080/",
          "height": 85
        }
      },
      "cell_type": "code",
      "source": [
        "#review2.dtypes"
      ],
      "execution_count": 0,
      "outputs": [
        {
          "output_type": "execute_result",
          "data": {
            "text/plain": [
              "stars         int64\n",
              "text         object\n",
              "sentiment    object\n",
              "dtype: object"
            ]
          },
          "metadata": {
            "tags": []
          },
          "execution_count": 28
        }
      ]
    },
    {
      "metadata": {
        "id": "PolgW66td4Bv",
        "colab_type": "code",
        "outputId": "37f41ec0-ef3f-4f6f-814d-98c411fdd498",
        "colab": {
          "base_uri": "https://localhost:8080/",
          "height": 34
        }
      },
      "cell_type": "code",
      "source": [
        "from sklearn.feature_extraction.text import CountVectorizer\n",
        "from keras.preprocessing.text import Tokenizer\n",
        "from keras.preprocessing.sequence import pad_sequences\n",
        "from keras.models import Sequential\n",
        "from keras.layers import Dense, Embedding, LSTM, SpatialDropout1D\n",
        "from sklearn.model_selection import train_test_split\n",
        "from keras.utils.np_utils import to_categorical\n",
        "\n",
        "tokenizer = Tokenizer(num_words=2000, filters='!\"#$%&()*+,-./:;<=>?@[\\\\]^_`{|}~\\t\\n',                                  \n",
        "                      lower=True,split=' ')\n",
        "tokenizer.fit_on_texts(review2['text'].values)\n",
        "#tokenizer.fit_on_texts(review3['text'].values)"
      ],
      "execution_count": 8,
      "outputs": [
        {
          "output_type": "stream",
          "text": [
            "Using TensorFlow backend.\n"
          ],
          "name": "stderr"
        }
      ]
    },
    {
      "metadata": {
        "id": "mudCeCA1fyXJ",
        "colab_type": "code",
        "outputId": "b3614dce-1b1b-4c74-a4e3-ed799c67629b",
        "colab": {
          "base_uri": "https://localhost:8080/",
          "height": 34
        }
      },
      "cell_type": "code",
      "source": [
        "#Use Tokenizer to vectorize the text and convert it into sequence of integers \n",
        "tokenizer"
      ],
      "execution_count": 9,
      "outputs": [
        {
          "output_type": "execute_result",
          "data": {
            "text/plain": [
              "<keras_preprocessing.text.Tokenizer at 0x7fb48e56ad30>"
            ]
          },
          "metadata": {
            "tags": []
          },
          "execution_count": 9
        }
      ]
    },
    {
      "metadata": {
        "id": "wuazH2UFfz4A",
        "colab_type": "code",
        "colab": {}
      },
      "cell_type": "code",
      "source": [
        "X = tokenizer.texts_to_sequences(review2['text'].values)\n",
        "#X = tokenizer.texts_to_sequences(review3['text'].values)\n",
        "X = pad_sequences(X)"
      ],
      "execution_count": 0,
      "outputs": []
    },
    {
      "metadata": {
        "id": "sK3YWiHNf_zK",
        "colab_type": "code",
        "outputId": "4c27b629-b6ee-433f-ddbb-9252abd0983e",
        "colab": {
          "base_uri": "https://localhost:8080/",
          "height": 34
        }
      },
      "cell_type": "code",
      "source": [
        "len(review2) #output: 51984\n",
        "#len(review3) #output: 43017"
      ],
      "execution_count": 11,
      "outputs": [
        {
          "output_type": "execute_result",
          "data": {
            "text/plain": [
              "51984"
            ]
          },
          "metadata": {
            "tags": []
          },
          "execution_count": 11
        }
      ]
    },
    {
      "metadata": {
        "id": "8modF2EggBkq",
        "colab_type": "code",
        "outputId": "ff6d82c7-9eb2-454b-8e90-8db85407b4d6",
        "colab": {
          "base_uri": "https://localhost:8080/",
          "height": 289
        }
      },
      "cell_type": "code",
      "source": [
        "### The following sections ###\n",
        "### were exectued with the following hyper parameters ###\n",
        "#embed_dim = 128\n",
        "#lstm_out = 196\n",
        "#batch_size = 32\n",
        "#dropout layer\n",
        "#vocabulary size = 2000\n",
        "\n",
        "#activation function - softmax\n",
        "\n",
        "embed_dim = 128\n",
        "lstm_out = 196\n",
        "batch_size = 32\n",
        "\n",
        "model = Sequential()\n",
        "model.add(Embedding(2000, embed_dim,input_length = X.shape[1]))\n",
        "model.add(SpatialDropout1D(0.2))\n",
        "model.add(LSTM(lstm_out, dropout = 0.2, recurrent_dropout = 0.2))\n",
        "model.add(Dense(2,activation='softmax'))\n",
        "model.compile(loss = 'categorical_crossentropy', optimizer='adam',metrics = ['accuracy'])\n",
        "print(model.summary())"
      ],
      "execution_count": 12,
      "outputs": [
        {
          "output_type": "stream",
          "text": [
            "_________________________________________________________________\n",
            "Layer (type)                 Output Shape              Param #   \n",
            "=================================================================\n",
            "embedding_1 (Embedding)      (None, 873, 128)          256000    \n",
            "_________________________________________________________________\n",
            "spatial_dropout1d_1 (Spatial (None, 873, 128)          0         \n",
            "_________________________________________________________________\n",
            "lstm_1 (LSTM)                (None, 196)               254800    \n",
            "_________________________________________________________________\n",
            "dense_1 (Dense)              (None, 2)                 394       \n",
            "=================================================================\n",
            "Total params: 511,194\n",
            "Trainable params: 511,194\n",
            "Non-trainable params: 0\n",
            "_________________________________________________________________\n",
            "None\n"
          ],
          "name": "stdout"
        }
      ]
    },
    {
      "metadata": {
        "id": "4y_p3Aj8gFoY",
        "colab_type": "code",
        "outputId": "7b750431-fc73-4abc-a757-9f3fe5d55730",
        "colab": {
          "base_uri": "https://localhost:8080/",
          "height": 51
        }
      },
      "cell_type": "code",
      "source": [
        "Y = pd.get_dummies(review2['sentiment']).values\n",
        "#Y = pd.get_dummies(review3['sentiment']).values\n",
        "X_train, X_test, Y_train, Y_test = train_test_split(X,Y, test_size = 0.2, random_state = 42)\n",
        "print(X_train.shape,Y_train.shape)\n",
        "print(X_test.shape,Y_test.shape)"
      ],
      "execution_count": 0,
      "outputs": [
        {
          "output_type": "stream",
          "text": [
            "(41587, 873) (41587, 2)\n",
            "(10397, 873) (10397, 2)\n"
          ],
          "name": "stdout"
        }
      ]
    },
    {
      "metadata": {
        "id": "jLSneCRGgMQ2",
        "colab_type": "code",
        "outputId": "18364404-b94a-40e0-cf91-df84ef3cd2ad",
        "colab": {
          "base_uri": "https://localhost:8080/",
          "height": 68
        }
      },
      "cell_type": "code",
      "source": [
        "#run with \"review2\" - option 1\n",
        "#takes about 55 minutes to run each epoch...\n",
        "model.fit(X_train, Y_train, batch_size = batch_size, epochs = 1, verbose = 2)"
      ],
      "execution_count": 0,
      "outputs": [
        {
          "output_type": "stream",
          "text": [
            "Epoch 1/1\n",
            " - 3291s - loss: 0.4507 - acc: 0.7963\n"
          ],
          "name": "stdout"
        },
        {
          "output_type": "execute_result",
          "data": {
            "text/plain": [
              "<keras.callbacks.History at 0x7f45cb379940>"
            ]
          },
          "metadata": {
            "tags": []
          },
          "execution_count": 16
        }
      ]
    },
    {
      "metadata": {
        "id": "mdPmi1azMqM_",
        "colab_type": "code",
        "outputId": "6b869eb3-649a-4826-99fb-d1b031243a0d",
        "colab": {
          "base_uri": "https://localhost:8080/",
          "height": 51
        }
      },
      "cell_type": "code",
      "source": [
        "#seems like we definitely need to use more epochs to increase accuracy (for option 1 esp.).\n",
        "score,acc = model.evaluate(X_test, Y_test, verbose = 2, batch_size = batch_size)\n",
        "print(\"Score: %.2f\" % (score))\n",
        "print(\"Validation Accuracy: %.2f\" % (acc))"
      ],
      "execution_count": 0,
      "outputs": [
        {
          "output_type": "stream",
          "text": [
            "Score: 0.48\n",
            "Validation Accuracy: 0.77\n"
          ],
          "name": "stdout"
        }
      ]
    },
    {
      "metadata": {
        "id": "6HgtDsuMJY6C",
        "colab_type": "code",
        "colab": {
          "base_uri": "https://localhost:8080/",
          "height": 51
        },
        "outputId": "e5f12f32-fbc5-4ceb-d4ee-786e54e69b98"
      },
      "cell_type": "code",
      "source": [
        "#Varying test sizes\n",
        "#let's try it with a test_size = 0.3\n",
        "Y = pd.get_dummies(review2['sentiment']).values\n",
        "#Y = pd.get_dummies(review3['sentiment']).values\n",
        "X_train2, X_test2, Y_train2, Y_test2 = train_test_split(X,Y, test_size = 0.3, random_state = 42)\n",
        "print(X_train2.shape,Y_train2.shape)\n",
        "print(X_test2.shape,Y_test2.shape)"
      ],
      "execution_count": 13,
      "outputs": [
        {
          "output_type": "stream",
          "text": [
            "(36388, 873) (36388, 2)\n",
            "(15596, 873) (15596, 2)\n"
          ],
          "name": "stdout"
        }
      ]
    },
    {
      "metadata": {
        "id": "i885u06NJZCE",
        "colab_type": "code",
        "colab": {
          "base_uri": "https://localhost:8080/",
          "height": 68
        },
        "outputId": "22f57098-6846-436d-aa16-4691ff1fbb75"
      },
      "cell_type": "code",
      "source": [
        "#run with \"review2\" - option 1\n",
        "#test size = 0.3\n",
        "model.fit(X_train2, Y_train2, batch_size = batch_size, epochs = 1, verbose = 2)"
      ],
      "execution_count": 14,
      "outputs": [
        {
          "output_type": "stream",
          "text": [
            "Epoch 1/1\n",
            " - 3019s - loss: 0.4513 - acc: 0.7961\n"
          ],
          "name": "stdout"
        },
        {
          "output_type": "execute_result",
          "data": {
            "text/plain": [
              "<keras.callbacks.History at 0x7fb42d91d470>"
            ]
          },
          "metadata": {
            "tags": []
          },
          "execution_count": 14
        }
      ]
    },
    {
      "metadata": {
        "id": "3kXyP4BVJwa4",
        "colab_type": "code",
        "colab": {
          "base_uri": "https://localhost:8080/",
          "height": 51
        },
        "outputId": "5d2421ea-ed31-4ce6-977a-1a7e40bd75f8"
      },
      "cell_type": "code",
      "source": [
        "#loss and test acc. with test size = 0.3\n",
        "score,acc = model.evaluate(X_test2, Y_test2, verbose = 2, batch_size = batch_size)\n",
        "print(\"Score: %.2f\" % (score))\n",
        "print(\"Validation Accuracy: %.2f\" % (acc))"
      ],
      "execution_count": 16,
      "outputs": [
        {
          "output_type": "stream",
          "text": [
            "Score: 0.38\n",
            "Validation Accuracy: 0.84\n"
          ],
          "name": "stdout"
        }
      ]
    },
    {
      "metadata": {
        "id": "krI1tGDJZlwO",
        "colab_type": "code",
        "colab": {
          "base_uri": "https://localhost:8080/",
          "height": 51
        },
        "outputId": "2fa5eb3e-c60f-47cf-90ec-78ddd5e4bd1b"
      },
      "cell_type": "code",
      "source": [
        "#let's try it with a test_size = 0.1\n",
        "Y = pd.get_dummies(review2['sentiment']).values\n",
        "#Y = pd.get_dummies(review3['sentiment']).values\n",
        "X_train3, X_test3, Y_train3, Y_test3 = train_test_split(X,Y, test_size = 0.1, random_state = 42)\n",
        "print(X_train3.shape,Y_train3.shape)\n",
        "print(X_test3.shape,Y_test3.shape)"
      ],
      "execution_count": 18,
      "outputs": [
        {
          "output_type": "stream",
          "text": [
            "(46785, 873) (46785, 2)\n",
            "(5199, 873) (5199, 2)\n"
          ],
          "name": "stdout"
        }
      ]
    },
    {
      "metadata": {
        "id": "_6VdJ-e_ZW6o",
        "colab_type": "code",
        "colab": {
          "base_uri": "https://localhost:8080/",
          "height": 68
        },
        "outputId": "da43c106-cddb-4fe6-a701-18a82a9cfe88"
      },
      "cell_type": "code",
      "source": [
        "#run with \"review2\" - option 1\n",
        "#test size = 0.1\n",
        "model.fit(X_train3, Y_train3, batch_size = batch_size, epochs = 1, verbose = 2)"
      ],
      "execution_count": 20,
      "outputs": [
        {
          "output_type": "stream",
          "text": [
            "Epoch 1/1\n",
            " - 3870s - loss: 0.3747 - acc: 0.8413\n"
          ],
          "name": "stdout"
        },
        {
          "output_type": "execute_result",
          "data": {
            "text/plain": [
              "<keras.callbacks.History at 0x7fb42d91d550>"
            ]
          },
          "metadata": {
            "tags": []
          },
          "execution_count": 20
        }
      ]
    },
    {
      "metadata": {
        "id": "2b3sDqtMZfAZ",
        "colab_type": "code",
        "colab": {
          "base_uri": "https://localhost:8080/",
          "height": 51
        },
        "outputId": "b80fc73c-4a88-4e40-ca4e-46b255f168ae"
      },
      "cell_type": "code",
      "source": [
        "#SoftmaxZeroPointOne\n",
        "#loss and test acc. with test size = 0.1\n",
        "score,acc = model.evaluate(X_test3, Y_test3, verbose = 2, batch_size = batch_size)\n",
        "print(\"Score: %.2f\" % (score))\n",
        "print(\"Validation Accuracy: %.2f\" % (acc))"
      ],
      "execution_count": 21,
      "outputs": [
        {
          "output_type": "stream",
          "text": [
            "Score: 0.35\n",
            "Validation Accuracy: 0.85\n"
          ],
          "name": "stdout"
        }
      ]
    },
    {
      "metadata": {
        "id": "SjCRs-NMubGI",
        "colab_type": "code",
        "outputId": "9401d9c6-1a71-4f31-c65a-89a859fbe38e",
        "colab": {
          "base_uri": "https://localhost:8080/",
          "height": 68
        }
      },
      "cell_type": "code",
      "source": [
        "#run with \"review3\" - option 2 - accuracy is higher! than option 1\n",
        "#takes about 45 minutes to run\n",
        "model.fit(X_train, Y_train, batch_size = batch_size, epochs = 1, verbose = 2)"
      ],
      "execution_count": 0,
      "outputs": [
        {
          "output_type": "stream",
          "text": [
            "Epoch 1/1\n",
            " - 2667s - loss: 0.2984 - acc: 0.8791\n"
          ],
          "name": "stdout"
        },
        {
          "output_type": "execute_result",
          "data": {
            "text/plain": [
              "<keras.callbacks.History at 0x7fa149e32f60>"
            ]
          },
          "metadata": {
            "tags": []
          },
          "execution_count": 57
        }
      ]
    },
    {
      "metadata": {
        "id": "9ffhw5oQGV6L",
        "colab_type": "code",
        "outputId": "d7c13962-323b-41a1-c26a-d743977f39fb",
        "colab": {
          "base_uri": "https://localhost:8080/",
          "height": 51
        }
      },
      "cell_type": "code",
      "source": [
        "#This was for \"review3\" - option 2\n",
        "score,acc = model.evaluate(X_test, Y_test, verbose = 2, batch_size = batch_size)\n",
        "print(\"Score: %.2f\" % (score))\n",
        "print(\"Validation Accuracy: %.2f\" % (acc))"
      ],
      "execution_count": 0,
      "outputs": [
        {
          "output_type": "stream",
          "text": [
            "Score: 0.24\n",
            "Validation Accuracy: 0.90\n"
          ],
          "name": "stdout"
        }
      ]
    },
    {
      "metadata": {
        "id": "g0_jUUJLv7Q-",
        "colab_type": "code",
        "colab": {}
      },
      "cell_type": "code",
      "source": [
        "### The following sections ###\n",
        "### were exectued with the following hyper parameters ###\n",
        "#embed_dim = 128\n",
        "#lstm_out = 100 *instead of 196\n",
        "#batch_size = 64 *instead of 32\n",
        "\n",
        "#no dropout layer (dropout layer helps with overfitting)\n",
        "#vocabulary size = 1000"
      ],
      "execution_count": 0,
      "outputs": []
    },
    {
      "metadata": {
        "id": "vt1hKRELv7WX",
        "colab_type": "code",
        "colab": {
          "base_uri": "https://localhost:8080/",
          "height": 255
        },
        "outputId": "a2a331e6-869e-4c76-84ee-e1ee898174ae"
      },
      "cell_type": "code",
      "source": [
        "embed_dim = 128\n",
        "lstm_out = 100\n",
        "batch_size = 64\n",
        "\n",
        "model = Sequential()\n",
        "model.add(Embedding(1000, embed_dim,input_length = X.shape[1]))\n",
        "model.add(LSTM(lstm_out))\n",
        "model.add(Dense(2,activation='softmax'))\n",
        "model.compile(loss = 'categorical_crossentropy', optimizer='adam',metrics = ['accuracy'])\n",
        "print(model.summary())"
      ],
      "execution_count": 28,
      "outputs": [
        {
          "output_type": "stream",
          "text": [
            "_________________________________________________________________\n",
            "Layer (type)                 Output Shape              Param #   \n",
            "=================================================================\n",
            "embedding_6 (Embedding)      (None, 873, 128)          128000    \n",
            "_________________________________________________________________\n",
            "lstm_6 (LSTM)                (None, 100)               91600     \n",
            "_________________________________________________________________\n",
            "dense_6 (Dense)              (None, 2)                 202       \n",
            "=================================================================\n",
            "Total params: 219,802\n",
            "Trainable params: 219,802\n",
            "Non-trainable params: 0\n",
            "_________________________________________________________________\n",
            "None\n"
          ],
          "name": "stdout"
        }
      ]
    },
    {
      "metadata": {
        "id": "bbBJ6m9Nv7bb",
        "colab_type": "code",
        "colab": {
          "base_uri": "https://localhost:8080/",
          "height": 51
        },
        "outputId": "ff4137b9-3713-4c69-9b42-9eeb97651b90"
      },
      "cell_type": "code",
      "source": [
        "Y = pd.get_dummies(review2['sentiment']).values\n",
        "#Y = pd.get_dummies(review3['sentiment']).values\n",
        "X_train4, X_test4, Y_train4, Y_test4 = train_test_split(X,Y, test_size = 0.1, random_state = 42)\n",
        "print(X_train4.shape,Y_train4.shape)\n",
        "print(X_test4.shape,Y_test4.shape)"
      ],
      "execution_count": 29,
      "outputs": [
        {
          "output_type": "stream",
          "text": [
            "(46785, 873) (46785, 2)\n",
            "(5199, 873) (5199, 2)\n"
          ],
          "name": "stdout"
        }
      ]
    },
    {
      "metadata": {
        "id": "uC0mXy8vv7Zg",
        "colab_type": "code",
        "colab": {
          "base_uri": "https://localhost:8080/",
          "height": 68
        },
        "outputId": "cd2223f9-527d-4c74-eee5-f3fbddb96fa1"
      },
      "cell_type": "code",
      "source": [
        "#run with \"review2\" - option 1\n",
        "#test size = 0.1\n",
        "model.fit(X_train4, Y_train4, batch_size = batch_size, epochs = 1, verbose = 2)"
      ],
      "execution_count": 30,
      "outputs": [
        {
          "output_type": "stream",
          "text": [
            "Epoch 1/1\n",
            " - 1741s - loss: 0.4560 - acc: 0.7882\n"
          ],
          "name": "stdout"
        },
        {
          "output_type": "execute_result",
          "data": {
            "text/plain": [
              "<keras.callbacks.History at 0x7fb4223b2780>"
            ]
          },
          "metadata": {
            "tags": []
          },
          "execution_count": 30
        }
      ]
    },
    {
      "metadata": {
        "id": "qndy3BDQysW7",
        "colab_type": "code",
        "colab": {
          "base_uri": "https://localhost:8080/",
          "height": 51
        },
        "outputId": "0b6a1b78-021b-4229-8ec3-1a8f76d9e898"
      },
      "cell_type": "code",
      "source": [
        "#This was for \"review2\" - option 1\n",
        "score,acc = model.evaluate(X_test4, Y_test4, verbose = 2, batch_size = batch_size)\n",
        "print(\"Score: %.2f\" % (score))\n",
        "print(\"Validation Accuracy: %.2f\" % (acc))\n",
        "\n",
        "#training loss << test loss = may be some overfitting here due to the missing dropout layer."
      ],
      "execution_count": 31,
      "outputs": [
        {
          "output_type": "stream",
          "text": [
            "Score: 0.64\n",
            "Validation Accuracy: 0.63\n"
          ],
          "name": "stdout"
        }
      ]
    },
    {
      "metadata": {
        "id": "_Afc8-5Jysre",
        "colab_type": "code",
        "colab": {
          "base_uri": "https://localhost:8080/",
          "height": 289
        },
        "outputId": "0864c376-730a-439d-f97c-24f99c715a97"
      },
      "cell_type": "code",
      "source": [
        "### The following sections ###\n",
        "### were exectued with the following hyper parameters ###\n",
        "#embed_dim = 128\n",
        "#lstm_out = 200\n",
        "#batch_size = 32\n",
        "#dropout layer\n",
        "#vocabulary size = 2000\n",
        "\n",
        "#\"tanh\" activation function\n",
        "\n",
        "embed_dim = 128\n",
        "lstm_out = 200\n",
        "batch_size = 32\n",
        "\n",
        "model = Sequential()\n",
        "model.add(Embedding(2000, embed_dim,input_length = X.shape[1]))\n",
        "model.add(SpatialDropout1D(0.2))\n",
        "model.add(LSTM(lstm_out, dropout = 0.2, recurrent_dropout = 0.2))\n",
        "model.add(Dense(2,activation='tanh'))\n",
        "model.compile(loss = 'categorical_crossentropy', optimizer='adam',metrics = ['accuracy'])\n",
        "print(model.summary())"
      ],
      "execution_count": 35,
      "outputs": [
        {
          "output_type": "stream",
          "text": [
            "_________________________________________________________________\n",
            "Layer (type)                 Output Shape              Param #   \n",
            "=================================================================\n",
            "embedding_8 (Embedding)      (None, 873, 128)          256000    \n",
            "_________________________________________________________________\n",
            "spatial_dropout1d_5 (Spatial (None, 873, 128)          0         \n",
            "_________________________________________________________________\n",
            "lstm_8 (LSTM)                (None, 200)               263200    \n",
            "_________________________________________________________________\n",
            "dense_8 (Dense)              (None, 2)                 402       \n",
            "=================================================================\n",
            "Total params: 519,602\n",
            "Trainable params: 519,602\n",
            "Non-trainable params: 0\n",
            "_________________________________________________________________\n",
            "None\n"
          ],
          "name": "stdout"
        }
      ]
    },
    {
      "metadata": {
        "id": "sbHE6dFAysu0",
        "colab_type": "code",
        "colab": {
          "base_uri": "https://localhost:8080/",
          "height": 51
        },
        "outputId": "fdd1fd6f-4b28-449e-9bf2-1130a81c98a8"
      },
      "cell_type": "code",
      "source": [
        "Y = pd.get_dummies(review2['sentiment']).values\n",
        "#Y = pd.get_dummies(review3['sentiment']).values\n",
        "X_train5, X_test5, Y_train5, Y_test5 = train_test_split(X,Y, test_size = 0.1, random_state = 42)\n",
        "print(X_train5.shape,Y_train5.shape)\n",
        "print(X_test5.shape,Y_test5.shape)"
      ],
      "execution_count": 36,
      "outputs": [
        {
          "output_type": "stream",
          "text": [
            "(46785, 873) (46785, 2)\n",
            "(5199, 873) (5199, 2)\n"
          ],
          "name": "stdout"
        }
      ]
    },
    {
      "metadata": {
        "id": "jZ8oeZzC9M1V",
        "colab_type": "code",
        "colab": {
          "base_uri": "https://localhost:8080/",
          "height": 68
        },
        "outputId": "7434038f-4c8f-41f0-ed24-b97a87d3d1d8"
      },
      "cell_type": "code",
      "source": [
        "#run with \"review2\" - option 1\n",
        "#test size = 0.1\n",
        "#tanh activation\n",
        "model.fit(X_train5, Y_train5, batch_size = batch_size, epochs = 1, verbose = 2)"
      ],
      "execution_count": 37,
      "outputs": [
        {
          "output_type": "stream",
          "text": [
            "Epoch 1/1\n",
            " - 3934s - loss: 0.7415 - acc: 0.4790\n"
          ],
          "name": "stdout"
        },
        {
          "output_type": "execute_result",
          "data": {
            "text/plain": [
              "<keras.callbacks.History at 0x7fb40f2e5da0>"
            ]
          },
          "metadata": {
            "tags": []
          },
          "execution_count": 37
        }
      ]
    },
    {
      "metadata": {
        "id": "hSCvDKyhOq5P",
        "colab_type": "code",
        "colab": {
          "base_uri": "https://localhost:8080/",
          "height": 51
        },
        "outputId": "b5aab537-9293-4168-9ff1-a52066b7ad2e"
      },
      "cell_type": "code",
      "source": [
        "#This was for \"review2\" - option 1\n",
        "#\"tanh\" activation function\n",
        "score,acc = model.evaluate(X_test5, Y_test5, verbose = 2, batch_size = batch_size)\n",
        "print(\"Score: %.2f\" % (score))\n",
        "print(\"Validation Accuracy: %.2f\" % (acc))"
      ],
      "execution_count": 39,
      "outputs": [
        {
          "output_type": "stream",
          "text": [
            "Score: 0.69\n",
            "Validation Accuracy: 0.45\n"
          ],
          "name": "stdout"
        }
      ]
    },
    {
      "metadata": {
        "id": "J1eTlZn-9M4-",
        "colab_type": "code",
        "colab": {
          "base_uri": "https://localhost:8080/",
          "height": 289
        },
        "outputId": "05c8f9b3-453d-4580-df9f-0cb59ff108d5"
      },
      "cell_type": "code",
      "source": [
        "### The following sections ###\n",
        "### were exectued with the following hyper parameters ###\n",
        "#embed_dim = 128\n",
        "#lstm_out = 200\n",
        "#batch_size = 32\n",
        "#dropout layer\n",
        "#vocabulary size = 2000\n",
        "\n",
        "#\"sigmoid\" activation function\n",
        "\n",
        "embed_dim = 128\n",
        "lstm_out = 200\n",
        "batch_size = 32\n",
        "\n",
        "model = Sequential()\n",
        "model.add(Embedding(2000, embed_dim,input_length = X.shape[1]))\n",
        "model.add(SpatialDropout1D(0.2))\n",
        "model.add(LSTM(lstm_out, dropout = 0.2, recurrent_dropout = 0.2))\n",
        "model.add(Dense(2,activation='sigmoid'))\n",
        "model.compile(loss = 'categorical_crossentropy', optimizer='adam',metrics = ['accuracy'])\n",
        "print(model.summary())"
      ],
      "execution_count": 38,
      "outputs": [
        {
          "output_type": "stream",
          "text": [
            "_________________________________________________________________\n",
            "Layer (type)                 Output Shape              Param #   \n",
            "=================================================================\n",
            "embedding_9 (Embedding)      (None, 873, 128)          256000    \n",
            "_________________________________________________________________\n",
            "spatial_dropout1d_6 (Spatial (None, 873, 128)          0         \n",
            "_________________________________________________________________\n",
            "lstm_9 (LSTM)                (None, 200)               263200    \n",
            "_________________________________________________________________\n",
            "dense_9 (Dense)              (None, 2)                 402       \n",
            "=================================================================\n",
            "Total params: 519,602\n",
            "Trainable params: 519,602\n",
            "Non-trainable params: 0\n",
            "_________________________________________________________________\n",
            "None\n"
          ],
          "name": "stdout"
        }
      ]
    },
    {
      "metadata": {
        "id": "JsF65WxK9M8t",
        "colab_type": "code",
        "colab": {
          "base_uri": "https://localhost:8080/",
          "height": 51
        },
        "outputId": "5366a86b-ee6a-419a-c007-456d6c108216"
      },
      "cell_type": "code",
      "source": [
        "Y = pd.get_dummies(review2['sentiment']).values\n",
        "#Y = pd.get_dummies(review3['sentiment']).values\n",
        "X_train6, X_test6, Y_train6, Y_test6 = train_test_split(X,Y, test_size = 0.1, random_state = 42)\n",
        "print(X_train5.shape,Y_train6.shape)\n",
        "print(X_test5.shape,Y_test6.shape)"
      ],
      "execution_count": 40,
      "outputs": [
        {
          "output_type": "stream",
          "text": [
            "(46785, 873) (46785, 2)\n",
            "(5199, 873) (5199, 2)\n"
          ],
          "name": "stdout"
        }
      ]
    },
    {
      "metadata": {
        "id": "HVmaLIrlOqFB",
        "colab_type": "code",
        "colab": {
          "base_uri": "https://localhost:8080/",
          "height": 68
        },
        "outputId": "e8173218-2f6c-431b-9dbc-d1d0b51fdf6e"
      },
      "cell_type": "code",
      "source": [
        "#run with \"review2\" - option 1\n",
        "#test size = 0.1\n",
        "#sigmoid activation - very similar to Softmax, acc is a little bit lower than softmax.\n",
        "model.fit(X_train6, Y_train6, batch_size = batch_size, epochs = 1, verbose = 2)"
      ],
      "execution_count": 41,
      "outputs": [
        {
          "output_type": "stream",
          "text": [
            "Epoch 1/1\n",
            " - 3920s - loss: 0.4506 - acc: 0.7960\n"
          ],
          "name": "stdout"
        },
        {
          "output_type": "execute_result",
          "data": {
            "text/plain": [
              "<keras.callbacks.History at 0x7fb40e18c400>"
            ]
          },
          "metadata": {
            "tags": []
          },
          "execution_count": 41
        }
      ]
    },
    {
      "metadata": {
        "id": "T6IrNBvmOrpg",
        "colab_type": "code",
        "colab": {
          "base_uri": "https://localhost:8080/",
          "height": 51
        },
        "outputId": "b2f39a2f-d247-4d93-88ef-88980d3f26fb"
      },
      "cell_type": "code",
      "source": [
        "#This was for \"review2\" - option 1\n",
        "#\"sigmoid\" activation function\n",
        "score,acc = model.evaluate(X_test6, Y_test6, verbose = 2, batch_size = batch_size)\n",
        "print(\"Score: %.2f\" % (score))\n",
        "print(\"Validation Accuracy: %.2f\" % (acc))\n",
        "\n",
        "########################\n",
        "#to compare this with Softmax\n",
        "#look up (control + F)\n",
        "#SoftmaxZeroPointOne\n",
        "#vs\n",
        "#SigmoidZeroPointOne\n"
      ],
      "execution_count": 42,
      "outputs": [
        {
          "output_type": "stream",
          "text": [
            "Score: 0.42\n",
            "Validation Accuracy: 0.82\n"
          ],
          "name": "stdout"
        }
      ]
    }
  ]
}
